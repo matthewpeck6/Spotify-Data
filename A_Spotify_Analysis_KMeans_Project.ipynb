{
  "cells": [
    {
      "cell_type": "markdown",
      "metadata": {
        "id": "Cn23AwJKFDZC"
      },
      "source": [
        "# Project, Lin. Alg. for Data Science.\n",
        "# Due date: Wed. 20 April, 2022."
      ],
      "id": "Cn23AwJKFDZC"
    },
    {
      "cell_type": "markdown",
      "metadata": {
        "id": "socIlC1y00ug"
      },
      "source": [
        "# Please fill in here:\n",
        "- Your name: Matthew Peck\n",
        "- Shared notebook url: https://drive.google.com/file/d/13_7t9dTnrZnq9FPfQbszRqpdOhnnst1o/view?usp=sharing\n"
      ],
      "id": "socIlC1y00ug"
    },
    {
      "cell_type": "code",
      "source": [
        ""
      ],
      "metadata": {
        "id": "CMdeC0jSFhbh"
      },
      "id": "CMdeC0jSFhbh",
      "execution_count": null,
      "outputs": []
    },
    {
      "cell_type": "code",
      "execution_count": null,
      "id": "2f2a498e",
      "metadata": {
        "id": "2f2a498e"
      },
      "outputs": [],
      "source": [
        "import pandas as pd #to work with data frames aka the holy grail\n",
        "import numpy as np #useful library to help us manipulate data frames \n",
        "import json #read and write json files \n",
        "import requests #make spotify api call requests\n",
        "from pandas.io.json import json_normalize\n",
        "from io import StringIO\n",
        "from urllib.parse import urlencode\n",
        "import base64\n",
        "import matplotlib.pyplot as plt\n",
        "\n"
      ]
    },
    {
      "cell_type": "code",
      "execution_count": null,
      "id": "ebea3e26",
      "metadata": {
        "id": "ebea3e26"
      },
      "outputs": [],
      "source": [
        "#Resources\n",
        "#https://colab.research.google.com/drive/1RjxURDlUTgR-ZhIMfu47jsK2mC3KB4R3?usp=sharing#scrollTo=wjvICz500TOE\n",
        "#https://colab.research.google.com/drive/1bjnEi_C9tb1YUIQ-IkqvM6IL-_DhjEzE#scrollTo=fobJde6TiWei\n",
        "#Juypter Notebook which is what my code and data was written"
      ]
    },
    {
      "cell_type": "code",
      "execution_count": null,
      "id": "3d38876f",
      "metadata": {
        "id": "3d38876f"
      },
      "outputs": [],
      "source": [
        "#reading streaming data into data frames \n",
        "df_stream0 = pd.read_json(\"StreamingHistory0.json\")"
      ]
    },
    {
      "cell_type": "code",
      "execution_count": null,
      "id": "b7d68e57",
      "metadata": {
        "id": "b7d68e57"
      },
      "outputs": [],
      "source": [
        "df_stream1 = pd.read_json(\"StreamingHistory1.json\")"
      ]
    },
    {
      "cell_type": "code",
      "execution_count": null,
      "id": "5170a594",
      "metadata": {
        "id": "5170a594"
      },
      "outputs": [],
      "source": [
        "df_stream2 = pd.read_json(\"StreamingHistory2.json\")"
      ]
    },
    {
      "cell_type": "code",
      "execution_count": null,
      "id": "f15db2f7",
      "metadata": {
        "id": "f15db2f7"
      },
      "outputs": [],
      "source": [
        "df_stream = pd.concat([df_stream0, df_stream1, df_stream2])\n"
      ]
    },
    {
      "cell_type": "code",
      "execution_count": null,
      "id": "4e0dcefb",
      "metadata": {
        "id": "4e0dcefb",
        "outputId": "01dab4aa-e45a-4f5e-93b0-7e26185410fb"
      },
      "outputs": [
        {
          "data": {
            "text/html": [
              "<div>\n",
              "<style scoped>\n",
              "    .dataframe tbody tr th:only-of-type {\n",
              "        vertical-align: middle;\n",
              "    }\n",
              "\n",
              "    .dataframe tbody tr th {\n",
              "        vertical-align: top;\n",
              "    }\n",
              "\n",
              "    .dataframe thead th {\n",
              "        text-align: right;\n",
              "    }\n",
              "</style>\n",
              "<table border=\"1\" class=\"dataframe\">\n",
              "  <thead>\n",
              "    <tr style=\"text-align: right;\">\n",
              "      <th></th>\n",
              "      <th>endTime</th>\n",
              "      <th>artistName</th>\n",
              "      <th>trackName</th>\n",
              "      <th>msPlayed</th>\n",
              "    </tr>\n",
              "  </thead>\n",
              "  <tbody>\n",
              "    <tr>\n",
              "      <th>0</th>\n",
              "      <td>2021-03-02 01:30</td>\n",
              "      <td>Triathalon</td>\n",
              "      <td>Hard to Move</td>\n",
              "      <td>333045</td>\n",
              "    </tr>\n",
              "    <tr>\n",
              "      <th>1</th>\n",
              "      <td>2021-03-02 01:32</td>\n",
              "      <td>Crumb</td>\n",
              "      <td>Cracking</td>\n",
              "      <td>111986</td>\n",
              "    </tr>\n",
              "    <tr>\n",
              "      <th>2</th>\n",
              "      <td>2021-03-02 01:36</td>\n",
              "      <td>Crumb</td>\n",
              "      <td>Nina</td>\n",
              "      <td>200280</td>\n",
              "    </tr>\n",
              "    <tr>\n",
              "      <th>3</th>\n",
              "      <td>2021-03-02 01:38</td>\n",
              "      <td>Crumb</td>\n",
              "      <td>Ghostride</td>\n",
              "      <td>126120</td>\n",
              "    </tr>\n",
              "    <tr>\n",
              "      <th>4</th>\n",
              "      <td>2021-03-02 01:41</td>\n",
              "      <td>Crumb</td>\n",
              "      <td>Fall Down</td>\n",
              "      <td>173000</td>\n",
              "    </tr>\n",
              "  </tbody>\n",
              "</table>\n",
              "</div>"
            ],
            "text/plain": [
              "            endTime  artistName     trackName  msPlayed\n",
              "0  2021-03-02 01:30  Triathalon  Hard to Move    333045\n",
              "1  2021-03-02 01:32       Crumb      Cracking    111986\n",
              "2  2021-03-02 01:36       Crumb          Nina    200280\n",
              "3  2021-03-02 01:38       Crumb     Ghostride    126120\n",
              "4  2021-03-02 01:41       Crumb     Fall Down    173000"
            ]
          },
          "execution_count": 7,
          "metadata": {},
          "output_type": "execute_result"
        }
      ],
      "source": [
        "#what does our streaming history data frame tell us \n",
        "df_stream.head()"
      ]
    },
    {
      "cell_type": "code",
      "execution_count": null,
      "id": "36d70488",
      "metadata": {
        "id": "36d70488"
      },
      "outputs": [],
      "source": [
        "#lets add a uniqueID for each row\n",
        "df_stream['UniqueID'] = df_stream['artistName'] + \":\" + df_stream['trackName']"
      ]
    },
    {
      "cell_type": "code",
      "execution_count": null,
      "id": "967ef928",
      "metadata": {
        "id": "967ef928",
        "outputId": "4f56c6cf-13ba-4198-99c3-fa1a30f0c0b3"
      },
      "outputs": [
        {
          "data": {
            "text/html": [
              "<div>\n",
              "<style scoped>\n",
              "    .dataframe tbody tr th:only-of-type {\n",
              "        vertical-align: middle;\n",
              "    }\n",
              "\n",
              "    .dataframe tbody tr th {\n",
              "        vertical-align: top;\n",
              "    }\n",
              "\n",
              "    .dataframe thead th {\n",
              "        text-align: right;\n",
              "    }\n",
              "</style>\n",
              "<table border=\"1\" class=\"dataframe\">\n",
              "  <thead>\n",
              "    <tr style=\"text-align: right;\">\n",
              "      <th></th>\n",
              "      <th>endTime</th>\n",
              "      <th>artistName</th>\n",
              "      <th>trackName</th>\n",
              "      <th>msPlayed</th>\n",
              "      <th>UniqueID</th>\n",
              "    </tr>\n",
              "  </thead>\n",
              "  <tbody>\n",
              "    <tr>\n",
              "      <th>0</th>\n",
              "      <td>2021-03-02 01:30</td>\n",
              "      <td>Triathalon</td>\n",
              "      <td>Hard to Move</td>\n",
              "      <td>333045</td>\n",
              "      <td>Triathalon:Hard to Move</td>\n",
              "    </tr>\n",
              "    <tr>\n",
              "      <th>1</th>\n",
              "      <td>2021-03-02 01:32</td>\n",
              "      <td>Crumb</td>\n",
              "      <td>Cracking</td>\n",
              "      <td>111986</td>\n",
              "      <td>Crumb:Cracking</td>\n",
              "    </tr>\n",
              "    <tr>\n",
              "      <th>2</th>\n",
              "      <td>2021-03-02 01:36</td>\n",
              "      <td>Crumb</td>\n",
              "      <td>Nina</td>\n",
              "      <td>200280</td>\n",
              "      <td>Crumb:Nina</td>\n",
              "    </tr>\n",
              "    <tr>\n",
              "      <th>3</th>\n",
              "      <td>2021-03-02 01:38</td>\n",
              "      <td>Crumb</td>\n",
              "      <td>Ghostride</td>\n",
              "      <td>126120</td>\n",
              "      <td>Crumb:Ghostride</td>\n",
              "    </tr>\n",
              "    <tr>\n",
              "      <th>4</th>\n",
              "      <td>2021-03-02 01:41</td>\n",
              "      <td>Crumb</td>\n",
              "      <td>Fall Down</td>\n",
              "      <td>173000</td>\n",
              "      <td>Crumb:Fall Down</td>\n",
              "    </tr>\n",
              "  </tbody>\n",
              "</table>\n",
              "</div>"
            ],
            "text/plain": [
              "            endTime  artistName     trackName  msPlayed  \\\n",
              "0  2021-03-02 01:30  Triathalon  Hard to Move    333045   \n",
              "1  2021-03-02 01:32       Crumb      Cracking    111986   \n",
              "2  2021-03-02 01:36       Crumb          Nina    200280   \n",
              "3  2021-03-02 01:38       Crumb     Ghostride    126120   \n",
              "4  2021-03-02 01:41       Crumb     Fall Down    173000   \n",
              "\n",
              "                  UniqueID  \n",
              "0  Triathalon:Hard to Move  \n",
              "1           Crumb:Cracking  \n",
              "2               Crumb:Nina  \n",
              "3          Crumb:Ghostride  \n",
              "4          Crumb:Fall Down  "
            ]
          },
          "execution_count": 9,
          "metadata": {},
          "output_type": "execute_result"
        }
      ],
      "source": [
        "df_stream.head()\n",
        "#yea... I was a huge fan of crumb it seems lol \n"
      ]
    },
    {
      "cell_type": "markdown",
      "id": "9e0cacb5",
      "metadata": {
        "id": "9e0cacb5"
      },
      "source": [
        "# isolate the \"tracks\" dictionary from the library file and save it as a new file \n"
      ]
    },
    {
      "cell_type": "code",
      "execution_count": null,
      "id": "f638520a",
      "metadata": {
        "id": "f638520a",
        "outputId": "70be50e5-6909-4643-819c-d08298dbf2c4"
      },
      "outputs": [
        {
          "data": {
            "text/plain": [
              "dict"
            ]
          },
          "execution_count": 10,
          "metadata": {},
          "output_type": "execute_result"
        }
      ],
      "source": [
        "#open the library json file and save it\n",
        "with open(\"YourLibrary.json\", \"r\",encoding=\"utf8\") as read_file:\n",
        "    lib = json.load(read_file)\n",
        "    \n",
        "#this a dictionary\n",
        "type(lib)"
      ]
    },
    {
      "cell_type": "code",
      "execution_count": null,
      "id": "c2b4df07",
      "metadata": {
        "id": "c2b4df07",
        "outputId": "11e41b16-98bd-440b-c7d6-f904e49d13ed"
      },
      "outputs": [
        {
          "data": {
            "text/plain": [
              "dict_keys(['tracks', 'albums', 'shows', 'episodes', 'bannedTracks', 'artists', 'bannedArtists', 'other'])"
            ]
          },
          "execution_count": 11,
          "metadata": {},
          "output_type": "execute_result"
        }
      ],
      "source": [
        "#lets see what it is in it\n",
        "lib.keys()"
      ]
    },
    {
      "cell_type": "code",
      "execution_count": null,
      "id": "09e2553c",
      "metadata": {
        "id": "09e2553c",
        "outputId": "ac60d8ee-90e3-452c-b7d7-a99a7624b9d3"
      },
      "outputs": [
        {
          "name": "stdout",
          "output_type": "stream",
          "text": [
            "{'artist': 'Frank Ocean', 'album': 'Blonde', 'track': 'Futura Free', 'uri': 'spotify:track:5k8LB57xOq8UUNVaKWSqrf'}\n"
          ]
        }
      ],
      "source": [
        "#we only care about the tracks for this workshop we will isolate this\n",
        "tracks = lib['tracks']\n",
        "#this returns a list \n",
        "print(tracks[0])\n",
        "#help(requests)"
      ]
    },
    {
      "cell_type": "code",
      "execution_count": null,
      "id": "cc97278e",
      "metadata": {
        "id": "cc97278e"
      },
      "outputs": [],
      "source": [
        "#Accessing the Spotify API\n",
        "# save your IDs from new project in Spotify Developer Dashboard\n",
        "CLIENT_ID = '54fea533c6314e99bf718911b800f564'\n",
        "CLIENT_SECRET = \"27b01cb9cc0a47f9b4ada883841eab6e\""
      ]
    },
    {
      "cell_type": "code",
      "execution_count": null,
      "id": "b96ee20c",
      "metadata": {
        "id": "b96ee20c"
      },
      "outputs": [],
      "source": [
        "# generate access token\n",
        "\n",
        "# authentication URL\n",
        "AUTH_URL = 'https://accounts.spotify.com/api/token'\n",
        "\n",
        "#help(requests.post)"
      ]
    },
    {
      "cell_type": "code",
      "execution_count": null,
      "id": "e7277dd7",
      "metadata": {
        "id": "e7277dd7"
      },
      "outputs": [],
      "source": [
        "# POST\n",
        "auth_response = requests.post(AUTH_URL, {\n",
        "    'grant_type': 'client_credentials',\n",
        "    'client_id': CLIENT_ID,\n",
        "    'client_secret': CLIENT_SECRET,\n",
        "})\n",
        "\n"
      ]
    },
    {
      "cell_type": "code",
      "execution_count": null,
      "id": "1e5258c5",
      "metadata": {
        "id": "1e5258c5"
      },
      "outputs": [],
      "source": [
        "auth_response_data = auth_response.json()"
      ]
    },
    {
      "cell_type": "code",
      "execution_count": null,
      "id": "2bdb1685",
      "metadata": {
        "id": "2bdb1685",
        "outputId": "c83f9570-e46b-4945-e84f-765561965a02"
      },
      "outputs": [
        {
          "data": {
            "text/plain": [
              "dict_keys(['access_token', 'token_type', 'expires_in'])"
            ]
          },
          "execution_count": 17,
          "metadata": {},
          "output_type": "execute_result"
        }
      ],
      "source": [
        "auth_response_data.keys()"
      ]
    },
    {
      "cell_type": "code",
      "execution_count": null,
      "id": "7ed368cd",
      "metadata": {
        "id": "7ed368cd",
        "outputId": "7e599f8e-6233-40d3-8d4e-261c0f2abd80"
      },
      "outputs": [
        {
          "name": "stdout",
          "output_type": "stream",
          "text": [
            "{'access_token': 'BQCU9GVgxjLW7CNDK5uYDc4Y-MP1UUYAoYF63eotkToVFVXJpe60dawCdFRFym5DrUoXnH__lHWuQQZCsCQ', 'token_type': 'Bearer', 'expires_in': 3600}\n"
          ]
        }
      ],
      "source": [
        "access_token = auth_response_data['access_token']\n",
        "print(auth_response.json())"
      ]
    },
    {
      "cell_type": "code",
      "execution_count": null,
      "id": "8905dc3f",
      "metadata": {
        "id": "8905dc3f"
      },
      "outputs": [],
      "source": [
        "# used for authenticating all API calls\n",
        "headers = {'Authorization': 'Bearer {token}'.format(token=access_token)}\n",
        "BASE_URL = 'https://api.spotify.com/v1/'\n"
      ]
    },
    {
      "cell_type": "code",
      "execution_count": null,
      "id": "9bbfd5fc",
      "metadata": {
        "id": "9bbfd5fc",
        "outputId": "fc7e9566-0cbe-4f23-909e-115c1b220b0b"
      },
      "outputs": [
        {
          "name": "stdout",
          "output_type": "stream",
          "text": [
            "<class 'dict'>\n",
            "{'artist': 'Frank Ocean', 'album': 'Blonde', 'track': 'Futura Free', 'uri': 'spotify:track:5k8LB57xOq8UUNVaKWSqrf'}\n"
          ]
        }
      ],
      "source": [
        "print(type(tracks[0]))\n",
        "#each index in the list is a dictionary\n",
        "print(tracks[0])"
      ]
    },
    {
      "cell_type": "code",
      "execution_count": null,
      "id": "f726d360",
      "metadata": {
        "id": "f726d360",
        "outputId": "c54990ff-f2b9-45ac-99d8-c351a598762f"
      },
      "outputs": [
        {
          "data": {
            "text/plain": [
              "str"
            ]
          },
          "execution_count": 21,
          "metadata": {},
          "output_type": "execute_result"
        }
      ],
      "source": [
        "track = tracks[0]\n",
        "uri = track['uri']\n",
        "uri\n",
        "type(uri)"
      ]
    },
    {
      "cell_type": "code",
      "execution_count": null,
      "id": "fe61d348",
      "metadata": {
        "id": "fe61d348"
      },
      "outputs": [],
      "source": [
        "uri = uri.split(\":\")"
      ]
    },
    {
      "cell_type": "code",
      "execution_count": null,
      "id": "811c0ae5",
      "metadata": {
        "id": "811c0ae5"
      },
      "outputs": [],
      "source": [
        "t_uri = uri[2]"
      ]
    },
    {
      "cell_type": "code",
      "execution_count": null,
      "id": "136ece5b",
      "metadata": {
        "id": "136ece5b",
        "outputId": "eafe6794-1a46-435b-e71e-9b993fef1fb0"
      },
      "outputs": [
        {
          "data": {
            "text/plain": [
              "requests.models.Response"
            ]
          },
          "execution_count": 24,
          "metadata": {},
          "output_type": "execute_result"
        }
      ],
      "source": [
        "r = requests.get(BASE_URL + 'tracks/' + t_uri, headers=headers)\n",
        "type(r)"
      ]
    },
    {
      "cell_type": "code",
      "execution_count": null,
      "id": "7298b7e4",
      "metadata": {
        "id": "7298b7e4",
        "outputId": "c87157d2-bcb0-45e9-e24f-d7d36504ad1e"
      },
      "outputs": [
        {
          "data": {
            "text/plain": [
              "dict"
            ]
          },
          "execution_count": 25,
          "metadata": {},
          "output_type": "execute_result"
        }
      ],
      "source": [
        "r = r.json()\n",
        "type(r)"
      ]
    },
    {
      "cell_type": "code",
      "execution_count": null,
      "id": "92c0ca40",
      "metadata": {
        "id": "92c0ca40",
        "outputId": "905c3f9a-037f-4e21-e3f3-86e1f8496aa5"
      },
      "outputs": [
        {
          "data": {
            "text/plain": [
              "dict_keys(['album', 'artists', 'available_markets', 'disc_number', 'duration_ms', 'explicit', 'external_ids', 'external_urls', 'href', 'id', 'is_local', 'name', 'popularity', 'preview_url', 'track_number', 'type', 'uri'])"
            ]
          },
          "execution_count": 26,
          "metadata": {},
          "output_type": "execute_result"
        }
      ],
      "source": [
        "r.keys()"
      ]
    },
    {
      "cell_type": "code",
      "execution_count": null,
      "id": "65967c53",
      "metadata": {
        "id": "65967c53"
      },
      "outputs": [],
      "source": [
        "artist_uri = r['artists'][0]['uri']"
      ]
    },
    {
      "cell_type": "code",
      "execution_count": null,
      "id": "16bd2fc9",
      "metadata": {
        "id": "16bd2fc9"
      },
      "outputs": [],
      "source": [
        "artist_uri = artist_uri.split(\":\")"
      ]
    },
    {
      "cell_type": "code",
      "execution_count": null,
      "id": "23e6ebcd",
      "metadata": {
        "id": "23e6ebcd"
      },
      "outputs": [],
      "source": [
        "a_uri = artist_uri[2]"
      ]
    },
    {
      "cell_type": "code",
      "execution_count": null,
      "id": "e1952fb6",
      "metadata": {
        "id": "e1952fb6"
      },
      "outputs": [],
      "source": [
        "s = requests.get(BASE_URL + 'artists/' + a_uri, headers=headers)\n"
      ]
    },
    {
      "cell_type": "code",
      "execution_count": null,
      "id": "504edc1b",
      "metadata": {
        "id": "504edc1b"
      },
      "outputs": [],
      "source": [
        "s = s.json()"
      ]
    },
    {
      "cell_type": "code",
      "execution_count": null,
      "id": "483ecbe8",
      "metadata": {
        "id": "483ecbe8",
        "outputId": "ea6d7e8e-328c-4817-ffc2-46fc540b9206"
      },
      "outputs": [
        {
          "data": {
            "text/plain": [
              "dict_keys(['external_urls', 'followers', 'genres', 'href', 'id', 'images', 'name', 'popularity', 'type', 'uri'])"
            ]
          },
          "execution_count": 32,
          "metadata": {},
          "output_type": "execute_result"
        }
      ],
      "source": [
        "s.keys()"
      ]
    },
    {
      "cell_type": "code",
      "execution_count": null,
      "id": "91aa81e5",
      "metadata": {
        "id": "91aa81e5",
        "outputId": "b48176b6-4996-4c1e-bb9b-c339206db2f7"
      },
      "outputs": [
        {
          "data": {
            "text/plain": [
              "['alternative r&b', 'hip hop', 'lgbtq+ hip hop', 'neo soul', 'pop']"
            ]
          },
          "execution_count": 33,
          "metadata": {},
          "output_type": "execute_result"
        }
      ],
      "source": [
        "s['genres']"
      ]
    },
    {
      "cell_type": "code",
      "execution_count": null,
      "id": "379b1653",
      "metadata": {
        "id": "379b1653"
      },
      "outputs": [],
      "source": [
        "df_library = pd.DataFrame(tracks)"
      ]
    },
    {
      "cell_type": "code",
      "execution_count": null,
      "id": "3b0174f7",
      "metadata": {
        "id": "3b0174f7",
        "outputId": "10d1779a-1a05-4bf5-e95e-ef2a9eb25f8d"
      },
      "outputs": [
        {
          "data": {
            "text/html": [
              "<div>\n",
              "<style scoped>\n",
              "    .dataframe tbody tr th:only-of-type {\n",
              "        vertical-align: middle;\n",
              "    }\n",
              "\n",
              "    .dataframe tbody tr th {\n",
              "        vertical-align: top;\n",
              "    }\n",
              "\n",
              "    .dataframe thead th {\n",
              "        text-align: right;\n",
              "    }\n",
              "</style>\n",
              "<table border=\"1\" class=\"dataframe\">\n",
              "  <thead>\n",
              "    <tr style=\"text-align: right;\">\n",
              "      <th></th>\n",
              "      <th>artist</th>\n",
              "      <th>album</th>\n",
              "      <th>track</th>\n",
              "      <th>uri</th>\n",
              "    </tr>\n",
              "  </thead>\n",
              "  <tbody>\n",
              "    <tr>\n",
              "      <th>0</th>\n",
              "      <td>Frank Ocean</td>\n",
              "      <td>Blonde</td>\n",
              "      <td>Futura Free</td>\n",
              "      <td>spotify:track:5k8LB57xOq8UUNVaKWSqrf</td>\n",
              "    </tr>\n",
              "    <tr>\n",
              "      <th>1</th>\n",
              "      <td>TV Girl</td>\n",
              "      <td>Who Really Cares</td>\n",
              "      <td>Taking What's Not Yours</td>\n",
              "      <td>spotify:track:2MDV2w1rdUPT4Qxm5L2Wzv</td>\n",
              "    </tr>\n",
              "    <tr>\n",
              "      <th>2</th>\n",
              "      <td>Guided By Voices</td>\n",
              "      <td>Sunfish Holy Breakfast</td>\n",
              "      <td>If We Wait</td>\n",
              "      <td>spotify:track:3nX5TiovePqS6yG8pYdwR2</td>\n",
              "    </tr>\n",
              "    <tr>\n",
              "      <th>3</th>\n",
              "      <td>A$AP Ferg</td>\n",
              "      <td>Floor Seats</td>\n",
              "      <td>Floor Seats</td>\n",
              "      <td>spotify:track:6AomCkEOQUODCYzQwH4SWC</td>\n",
              "    </tr>\n",
              "    <tr>\n",
              "      <th>4</th>\n",
              "      <td>Drake</td>\n",
              "      <td>Scary Hours 2</td>\n",
              "      <td>What’s Next</td>\n",
              "      <td>spotify:track:3aQem4jVGdhtg116TmJnHz</td>\n",
              "    </tr>\n",
              "  </tbody>\n",
              "</table>\n",
              "</div>"
            ],
            "text/plain": [
              "             artist                   album                    track  \\\n",
              "0       Frank Ocean                  Blonde              Futura Free   \n",
              "1           TV Girl        Who Really Cares  Taking What's Not Yours   \n",
              "2  Guided By Voices  Sunfish Holy Breakfast               If We Wait   \n",
              "3         A$AP Ferg             Floor Seats              Floor Seats   \n",
              "4             Drake           Scary Hours 2              What’s Next   \n",
              "\n",
              "                                    uri  \n",
              "0  spotify:track:5k8LB57xOq8UUNVaKWSqrf  \n",
              "1  spotify:track:2MDV2w1rdUPT4Qxm5L2Wzv  \n",
              "2  spotify:track:3nX5TiovePqS6yG8pYdwR2  \n",
              "3  spotify:track:6AomCkEOQUODCYzQwH4SWC  \n",
              "4  spotify:track:3aQem4jVGdhtg116TmJnHz  "
            ]
          },
          "execution_count": 35,
          "metadata": {},
          "output_type": "execute_result"
        }
      ],
      "source": [
        "df_library.head()"
      ]
    },
    {
      "cell_type": "markdown",
      "id": "5b44a340",
      "metadata": {
        "id": "5b44a340"
      },
      "source": [
        "# We downloaded the library file as a dictionary\n",
        "# 2. the Dictionary had keys that represent each album, track, and uri in the dictionary\n",
        "# 3. We are only concerned with the tracks in our library so we get this key and its value from the dictionary\n",
        "# 4 when we do we get a list and each index is a dictionary \n"
      ]
    },
    {
      "cell_type": "code",
      "execution_count": null,
      "id": "244c0cfd",
      "metadata": {
        "id": "244c0cfd",
        "outputId": "7541bdf1-1d77-4b8f-b8ca-6c75e4b4a323"
      },
      "outputs": [
        {
          "data": {
            "text/plain": [
              "Index(['artist', 'album', 'track', 'uri'], dtype='object')"
            ]
          },
          "execution_count": 36,
          "metadata": {},
          "output_type": "execute_result"
        }
      ],
      "source": [
        "df_library.columns\n",
        "#we've now created an dataframe where we have each song in our library and the artist, album, track, and uri that corresponds"
      ]
    },
    {
      "cell_type": "code",
      "execution_count": null,
      "id": "8138478f",
      "metadata": {
        "id": "8138478f",
        "outputId": "50ddb23b-f90b-417a-d154-c070a6894e1b"
      },
      "outputs": [
        {
          "data": {
            "text/plain": [
              "0      spotify:track:5k8LB57xOq8UUNVaKWSqrf\n",
              "1      spotify:track:2MDV2w1rdUPT4Qxm5L2Wzv\n",
              "2      spotify:track:3nX5TiovePqS6yG8pYdwR2\n",
              "3      spotify:track:6AomCkEOQUODCYzQwH4SWC\n",
              "4      spotify:track:3aQem4jVGdhtg116TmJnHz\n",
              "                       ...                 \n",
              "247    spotify:track:0SVvyfRMFMRJzc0L2odX20\n",
              "248    spotify:track:1Pr2b8WV0rFkSAjrnzUeDc\n",
              "249    spotify:track:3WkibOpDF7cQ5xntM1epyf\n",
              "250    spotify:track:3wwo0bJvDSorOpNfzEkfXx\n",
              "251    spotify:track:1p2TWJxUlHE5JR0sE6E1d7\n",
              "Name: uri, Length: 252, dtype: object"
            ]
          },
          "execution_count": 37,
          "metadata": {},
          "output_type": "execute_result"
        }
      ],
      "source": [
        "# we need to create a unique idea for each song. this will come in handy later\n",
        "df_library['UniqueID'] = df_library['artist'] + \":\" + df_library['track']\n",
        "#we need the uris for each track. this will also come in handy later.\n",
        "df_library.loc[:,\"uri\"]\n",
        "#notice that the uri is the alphanumerical sequence after the second colon in each row. we need to strip this \n"
      ]
    },
    {
      "cell_type": "code",
      "execution_count": null,
      "id": "ae32f071",
      "metadata": {
        "id": "ae32f071",
        "outputId": "d0fbdc80-02b1-424d-8367-1b1eb2547d15"
      },
      "outputs": [
        {
          "data": {
            "text/html": [
              "<div>\n",
              "<style scoped>\n",
              "    .dataframe tbody tr th:only-of-type {\n",
              "        vertical-align: middle;\n",
              "    }\n",
              "\n",
              "    .dataframe tbody tr th {\n",
              "        vertical-align: top;\n",
              "    }\n",
              "\n",
              "    .dataframe thead th {\n",
              "        text-align: right;\n",
              "    }\n",
              "</style>\n",
              "<table border=\"1\" class=\"dataframe\">\n",
              "  <thead>\n",
              "    <tr style=\"text-align: right;\">\n",
              "      <th></th>\n",
              "      <th>0</th>\n",
              "      <th>1</th>\n",
              "      <th>2</th>\n",
              "    </tr>\n",
              "  </thead>\n",
              "  <tbody>\n",
              "    <tr>\n",
              "      <th>0</th>\n",
              "      <td>spotify</td>\n",
              "      <td>track</td>\n",
              "      <td>5k8LB57xOq8UUNVaKWSqrf</td>\n",
              "    </tr>\n",
              "    <tr>\n",
              "      <th>1</th>\n",
              "      <td>spotify</td>\n",
              "      <td>track</td>\n",
              "      <td>2MDV2w1rdUPT4Qxm5L2Wzv</td>\n",
              "    </tr>\n",
              "    <tr>\n",
              "      <th>2</th>\n",
              "      <td>spotify</td>\n",
              "      <td>track</td>\n",
              "      <td>3nX5TiovePqS6yG8pYdwR2</td>\n",
              "    </tr>\n",
              "    <tr>\n",
              "      <th>3</th>\n",
              "      <td>spotify</td>\n",
              "      <td>track</td>\n",
              "      <td>6AomCkEOQUODCYzQwH4SWC</td>\n",
              "    </tr>\n",
              "    <tr>\n",
              "      <th>4</th>\n",
              "      <td>spotify</td>\n",
              "      <td>track</td>\n",
              "      <td>3aQem4jVGdhtg116TmJnHz</td>\n",
              "    </tr>\n",
              "    <tr>\n",
              "      <th>...</th>\n",
              "      <td>...</td>\n",
              "      <td>...</td>\n",
              "      <td>...</td>\n",
              "    </tr>\n",
              "    <tr>\n",
              "      <th>247</th>\n",
              "      <td>spotify</td>\n",
              "      <td>track</td>\n",
              "      <td>0SVvyfRMFMRJzc0L2odX20</td>\n",
              "    </tr>\n",
              "    <tr>\n",
              "      <th>248</th>\n",
              "      <td>spotify</td>\n",
              "      <td>track</td>\n",
              "      <td>1Pr2b8WV0rFkSAjrnzUeDc</td>\n",
              "    </tr>\n",
              "    <tr>\n",
              "      <th>249</th>\n",
              "      <td>spotify</td>\n",
              "      <td>track</td>\n",
              "      <td>3WkibOpDF7cQ5xntM1epyf</td>\n",
              "    </tr>\n",
              "    <tr>\n",
              "      <th>250</th>\n",
              "      <td>spotify</td>\n",
              "      <td>track</td>\n",
              "      <td>3wwo0bJvDSorOpNfzEkfXx</td>\n",
              "    </tr>\n",
              "    <tr>\n",
              "      <th>251</th>\n",
              "      <td>spotify</td>\n",
              "      <td>track</td>\n",
              "      <td>1p2TWJxUlHE5JR0sE6E1d7</td>\n",
              "    </tr>\n",
              "  </tbody>\n",
              "</table>\n",
              "<p>252 rows × 3 columns</p>\n",
              "</div>"
            ],
            "text/plain": [
              "           0      1                       2\n",
              "0    spotify  track  5k8LB57xOq8UUNVaKWSqrf\n",
              "1    spotify  track  2MDV2w1rdUPT4Qxm5L2Wzv\n",
              "2    spotify  track  3nX5TiovePqS6yG8pYdwR2\n",
              "3    spotify  track  6AomCkEOQUODCYzQwH4SWC\n",
              "4    spotify  track  3aQem4jVGdhtg116TmJnHz\n",
              "..       ...    ...                     ...\n",
              "247  spotify  track  0SVvyfRMFMRJzc0L2odX20\n",
              "248  spotify  track  1Pr2b8WV0rFkSAjrnzUeDc\n",
              "249  spotify  track  3WkibOpDF7cQ5xntM1epyf\n",
              "250  spotify  track  3wwo0bJvDSorOpNfzEkfXx\n",
              "251  spotify  track  1p2TWJxUlHE5JR0sE6E1d7\n",
              "\n",
              "[252 rows x 3 columns]"
            ]
          },
          "execution_count": 38,
          "metadata": {},
          "output_type": "execute_result"
        }
      ],
      "source": [
        "# add column with track URI stripped of 'spotify:track:'\n",
        "new = df_library[\"uri\"].str.split(\":\", expand = True)\n",
        "new\n"
      ]
    },
    {
      "cell_type": "code",
      "execution_count": null,
      "id": "ad412e2e",
      "metadata": {
        "id": "ad412e2e"
      },
      "outputs": [],
      "source": [
        "df_library['track_uri'] = new[2]"
      ]
    },
    {
      "cell_type": "code",
      "execution_count": null,
      "id": "c7c50fd3",
      "metadata": {
        "id": "c7c50fd3",
        "outputId": "d999b935-76ae-4cdc-8333-86be7010097a"
      },
      "outputs": [
        {
          "data": {
            "text/html": [
              "<div>\n",
              "<style scoped>\n",
              "    .dataframe tbody tr th:only-of-type {\n",
              "        vertical-align: middle;\n",
              "    }\n",
              "\n",
              "    .dataframe tbody tr th {\n",
              "        vertical-align: top;\n",
              "    }\n",
              "\n",
              "    .dataframe thead th {\n",
              "        text-align: right;\n",
              "    }\n",
              "</style>\n",
              "<table border=\"1\" class=\"dataframe\">\n",
              "  <thead>\n",
              "    <tr style=\"text-align: right;\">\n",
              "      <th></th>\n",
              "      <th>artist</th>\n",
              "      <th>album</th>\n",
              "      <th>track</th>\n",
              "      <th>uri</th>\n",
              "      <th>UniqueID</th>\n",
              "      <th>track_uri</th>\n",
              "    </tr>\n",
              "  </thead>\n",
              "  <tbody>\n",
              "    <tr>\n",
              "      <th>0</th>\n",
              "      <td>Frank Ocean</td>\n",
              "      <td>Blonde</td>\n",
              "      <td>Futura Free</td>\n",
              "      <td>spotify:track:5k8LB57xOq8UUNVaKWSqrf</td>\n",
              "      <td>Frank Ocean:Futura Free</td>\n",
              "      <td>5k8LB57xOq8UUNVaKWSqrf</td>\n",
              "    </tr>\n",
              "    <tr>\n",
              "      <th>1</th>\n",
              "      <td>TV Girl</td>\n",
              "      <td>Who Really Cares</td>\n",
              "      <td>Taking What's Not Yours</td>\n",
              "      <td>spotify:track:2MDV2w1rdUPT4Qxm5L2Wzv</td>\n",
              "      <td>TV Girl:Taking What's Not Yours</td>\n",
              "      <td>2MDV2w1rdUPT4Qxm5L2Wzv</td>\n",
              "    </tr>\n",
              "    <tr>\n",
              "      <th>2</th>\n",
              "      <td>Guided By Voices</td>\n",
              "      <td>Sunfish Holy Breakfast</td>\n",
              "      <td>If We Wait</td>\n",
              "      <td>spotify:track:3nX5TiovePqS6yG8pYdwR2</td>\n",
              "      <td>Guided By Voices:If We Wait</td>\n",
              "      <td>3nX5TiovePqS6yG8pYdwR2</td>\n",
              "    </tr>\n",
              "    <tr>\n",
              "      <th>3</th>\n",
              "      <td>A$AP Ferg</td>\n",
              "      <td>Floor Seats</td>\n",
              "      <td>Floor Seats</td>\n",
              "      <td>spotify:track:6AomCkEOQUODCYzQwH4SWC</td>\n",
              "      <td>A$AP Ferg:Floor Seats</td>\n",
              "      <td>6AomCkEOQUODCYzQwH4SWC</td>\n",
              "    </tr>\n",
              "    <tr>\n",
              "      <th>4</th>\n",
              "      <td>Drake</td>\n",
              "      <td>Scary Hours 2</td>\n",
              "      <td>What’s Next</td>\n",
              "      <td>spotify:track:3aQem4jVGdhtg116TmJnHz</td>\n",
              "      <td>Drake:What’s Next</td>\n",
              "      <td>3aQem4jVGdhtg116TmJnHz</td>\n",
              "    </tr>\n",
              "  </tbody>\n",
              "</table>\n",
              "</div>"
            ],
            "text/plain": [
              "             artist                   album                    track  \\\n",
              "0       Frank Ocean                  Blonde              Futura Free   \n",
              "1           TV Girl        Who Really Cares  Taking What's Not Yours   \n",
              "2  Guided By Voices  Sunfish Holy Breakfast               If We Wait   \n",
              "3         A$AP Ferg             Floor Seats              Floor Seats   \n",
              "4             Drake           Scary Hours 2              What’s Next   \n",
              "\n",
              "                                    uri                         UniqueID  \\\n",
              "0  spotify:track:5k8LB57xOq8UUNVaKWSqrf          Frank Ocean:Futura Free   \n",
              "1  spotify:track:2MDV2w1rdUPT4Qxm5L2Wzv  TV Girl:Taking What's Not Yours   \n",
              "2  spotify:track:3nX5TiovePqS6yG8pYdwR2      Guided By Voices:If We Wait   \n",
              "3  spotify:track:6AomCkEOQUODCYzQwH4SWC            A$AP Ferg:Floor Seats   \n",
              "4  spotify:track:3aQem4jVGdhtg116TmJnHz                Drake:What’s Next   \n",
              "\n",
              "                track_uri  \n",
              "0  5k8LB57xOq8UUNVaKWSqrf  \n",
              "1  2MDV2w1rdUPT4Qxm5L2Wzv  \n",
              "2  3nX5TiovePqS6yG8pYdwR2  \n",
              "3  6AomCkEOQUODCYzQwH4SWC  \n",
              "4  3aQem4jVGdhtg116TmJnHz  "
            ]
          },
          "execution_count": 40,
          "metadata": {},
          "output_type": "execute_result"
        }
      ],
      "source": [
        "df_library.head()\n",
        "#we now have the trip uri "
      ]
    },
    {
      "cell_type": "code",
      "execution_count": null,
      "id": "813483d3",
      "metadata": {
        "id": "813483d3"
      },
      "outputs": [],
      "source": [
        "#lets create a data frame that will be used for visualization in tableau\n",
        "df_tableau = df_stream.copy()\n",
        "\n"
      ]
    },
    {
      "cell_type": "code",
      "execution_count": null,
      "id": "120133e7",
      "metadata": {
        "id": "120133e7",
        "outputId": "e8fe8b39-a650-46d0-d568-adc300cd06b4"
      },
      "outputs": [
        {
          "data": {
            "text/html": [
              "<div>\n",
              "<style scoped>\n",
              "    .dataframe tbody tr th:only-of-type {\n",
              "        vertical-align: middle;\n",
              "    }\n",
              "\n",
              "    .dataframe tbody tr th {\n",
              "        vertical-align: top;\n",
              "    }\n",
              "\n",
              "    .dataframe thead th {\n",
              "        text-align: right;\n",
              "    }\n",
              "</style>\n",
              "<table border=\"1\" class=\"dataframe\">\n",
              "  <thead>\n",
              "    <tr style=\"text-align: right;\">\n",
              "      <th></th>\n",
              "      <th>endTime</th>\n",
              "      <th>artistName</th>\n",
              "      <th>trackName</th>\n",
              "      <th>msPlayed</th>\n",
              "      <th>UniqueID</th>\n",
              "    </tr>\n",
              "  </thead>\n",
              "  <tbody>\n",
              "    <tr>\n",
              "      <th>0</th>\n",
              "      <td>2021-03-02 01:30</td>\n",
              "      <td>Triathalon</td>\n",
              "      <td>Hard to Move</td>\n",
              "      <td>333045</td>\n",
              "      <td>Triathalon:Hard to Move</td>\n",
              "    </tr>\n",
              "    <tr>\n",
              "      <th>1</th>\n",
              "      <td>2021-03-02 01:32</td>\n",
              "      <td>Crumb</td>\n",
              "      <td>Cracking</td>\n",
              "      <td>111986</td>\n",
              "      <td>Crumb:Cracking</td>\n",
              "    </tr>\n",
              "    <tr>\n",
              "      <th>2</th>\n",
              "      <td>2021-03-02 01:36</td>\n",
              "      <td>Crumb</td>\n",
              "      <td>Nina</td>\n",
              "      <td>200280</td>\n",
              "      <td>Crumb:Nina</td>\n",
              "    </tr>\n",
              "    <tr>\n",
              "      <th>3</th>\n",
              "      <td>2021-03-02 01:38</td>\n",
              "      <td>Crumb</td>\n",
              "      <td>Ghostride</td>\n",
              "      <td>126120</td>\n",
              "      <td>Crumb:Ghostride</td>\n",
              "    </tr>\n",
              "    <tr>\n",
              "      <th>4</th>\n",
              "      <td>2021-03-02 01:41</td>\n",
              "      <td>Crumb</td>\n",
              "      <td>Fall Down</td>\n",
              "      <td>173000</td>\n",
              "      <td>Crumb:Fall Down</td>\n",
              "    </tr>\n",
              "  </tbody>\n",
              "</table>\n",
              "</div>"
            ],
            "text/plain": [
              "            endTime  artistName     trackName  msPlayed  \\\n",
              "0  2021-03-02 01:30  Triathalon  Hard to Move    333045   \n",
              "1  2021-03-02 01:32       Crumb      Cracking    111986   \n",
              "2  2021-03-02 01:36       Crumb          Nina    200280   \n",
              "3  2021-03-02 01:38       Crumb     Ghostride    126120   \n",
              "4  2021-03-02 01:41       Crumb     Fall Down    173000   \n",
              "\n",
              "                  UniqueID  \n",
              "0  Triathalon:Hard to Move  \n",
              "1           Crumb:Cracking  \n",
              "2               Crumb:Nina  \n",
              "3          Crumb:Ghostride  \n",
              "4          Crumb:Fall Down  "
            ]
          },
          "execution_count": 42,
          "metadata": {},
          "output_type": "execute_result"
        }
      ],
      "source": [
        "df_tableau.head()"
      ]
    },
    {
      "cell_type": "code",
      "execution_count": null,
      "id": "36ce9f5b",
      "metadata": {
        "id": "36ce9f5b",
        "outputId": "254fd2df-5629-4fa4-8ec5-1f89e3b135e4"
      },
      "outputs": [
        {
          "data": {
            "text/plain": [
              "0       333045\n",
              "1       111986\n",
              "2       200280\n",
              "3       126120\n",
              "4       173000\n",
              "         ...  \n",
              "3372     58280\n",
              "3373    204401\n",
              "3374    265480\n",
              "3375    184516\n",
              "3376    249667\n",
              "Name: msPlayed, Length: 23377, dtype: int64"
            ]
          },
          "execution_count": 43,
          "metadata": {},
          "output_type": "execute_result"
        }
      ],
      "source": [
        "df_tableau['msPlayed']"
      ]
    },
    {
      "cell_type": "code",
      "execution_count": null,
      "id": "a4ae905a",
      "metadata": {
        "id": "a4ae905a"
      },
      "outputs": [],
      "source": [
        "#df_tableau['msPlayed']\n",
        "myEndTime = df_tableau['endTime'].str.split(\" \", expand = True)\n",
        "#myEndTime"
      ]
    },
    {
      "cell_type": "code",
      "execution_count": null,
      "id": "57bfc6cc",
      "metadata": {
        "id": "57bfc6cc",
        "outputId": "ced7ed1d-40e4-41e9-ece5-40d1f14faae5"
      },
      "outputs": [
        {
          "name": "stdout",
          "output_type": "stream",
          "text": [
            "0    object\n",
            "1    object\n",
            "2     int32\n",
            "3     int32\n",
            "4     int32\n",
            "dtype: object\n",
            "0    object\n",
            "1    object\n",
            "2     int32\n",
            "3     int32\n",
            "4     int32\n",
            "5     int32\n",
            "6     int32\n",
            "dtype: object\n"
          ]
        },
        {
          "data": {
            "text/html": [
              "<div>\n",
              "<style scoped>\n",
              "    .dataframe tbody tr th:only-of-type {\n",
              "        vertical-align: middle;\n",
              "    }\n",
              "\n",
              "    .dataframe tbody tr th {\n",
              "        vertical-align: top;\n",
              "    }\n",
              "\n",
              "    .dataframe thead th {\n",
              "        text-align: right;\n",
              "    }\n",
              "</style>\n",
              "<table border=\"1\" class=\"dataframe\">\n",
              "  <thead>\n",
              "    <tr style=\"text-align: right;\">\n",
              "      <th></th>\n",
              "      <th>0</th>\n",
              "      <th>1</th>\n",
              "      <th>2</th>\n",
              "      <th>3</th>\n",
              "      <th>4</th>\n",
              "      <th>5</th>\n",
              "      <th>6</th>\n",
              "    </tr>\n",
              "  </thead>\n",
              "  <tbody>\n",
              "    <tr>\n",
              "      <th>0</th>\n",
              "      <td>01</td>\n",
              "      <td>30</td>\n",
              "      <td>60</td>\n",
              "      <td>30</td>\n",
              "      <td>90</td>\n",
              "      <td>1</td>\n",
              "      <td>30</td>\n",
              "    </tr>\n",
              "    <tr>\n",
              "      <th>1</th>\n",
              "      <td>01</td>\n",
              "      <td>32</td>\n",
              "      <td>60</td>\n",
              "      <td>32</td>\n",
              "      <td>92</td>\n",
              "      <td>1</td>\n",
              "      <td>32</td>\n",
              "    </tr>\n",
              "    <tr>\n",
              "      <th>2</th>\n",
              "      <td>01</td>\n",
              "      <td>36</td>\n",
              "      <td>60</td>\n",
              "      <td>36</td>\n",
              "      <td>96</td>\n",
              "      <td>1</td>\n",
              "      <td>36</td>\n",
              "    </tr>\n",
              "    <tr>\n",
              "      <th>3</th>\n",
              "      <td>01</td>\n",
              "      <td>38</td>\n",
              "      <td>60</td>\n",
              "      <td>38</td>\n",
              "      <td>98</td>\n",
              "      <td>1</td>\n",
              "      <td>38</td>\n",
              "    </tr>\n",
              "    <tr>\n",
              "      <th>4</th>\n",
              "      <td>01</td>\n",
              "      <td>41</td>\n",
              "      <td>60</td>\n",
              "      <td>41</td>\n",
              "      <td>101</td>\n",
              "      <td>1</td>\n",
              "      <td>41</td>\n",
              "    </tr>\n",
              "    <tr>\n",
              "      <th>...</th>\n",
              "      <td>...</td>\n",
              "      <td>...</td>\n",
              "      <td>...</td>\n",
              "      <td>...</td>\n",
              "      <td>...</td>\n",
              "      <td>...</td>\n",
              "      <td>...</td>\n",
              "    </tr>\n",
              "    <tr>\n",
              "      <th>3372</th>\n",
              "      <td>20</td>\n",
              "      <td>18</td>\n",
              "      <td>1200</td>\n",
              "      <td>18</td>\n",
              "      <td>1218</td>\n",
              "      <td>20</td>\n",
              "      <td>18</td>\n",
              "    </tr>\n",
              "    <tr>\n",
              "      <th>3373</th>\n",
              "      <td>23</td>\n",
              "      <td>09</td>\n",
              "      <td>1380</td>\n",
              "      <td>9</td>\n",
              "      <td>1389</td>\n",
              "      <td>23</td>\n",
              "      <td>9</td>\n",
              "    </tr>\n",
              "    <tr>\n",
              "      <th>3374</th>\n",
              "      <td>23</td>\n",
              "      <td>14</td>\n",
              "      <td>1380</td>\n",
              "      <td>14</td>\n",
              "      <td>1394</td>\n",
              "      <td>23</td>\n",
              "      <td>14</td>\n",
              "    </tr>\n",
              "    <tr>\n",
              "      <th>3375</th>\n",
              "      <td>23</td>\n",
              "      <td>17</td>\n",
              "      <td>1380</td>\n",
              "      <td>17</td>\n",
              "      <td>1397</td>\n",
              "      <td>23</td>\n",
              "      <td>17</td>\n",
              "    </tr>\n",
              "    <tr>\n",
              "      <th>3376</th>\n",
              "      <td>23</td>\n",
              "      <td>21</td>\n",
              "      <td>1380</td>\n",
              "      <td>21</td>\n",
              "      <td>1401</td>\n",
              "      <td>23</td>\n",
              "      <td>21</td>\n",
              "    </tr>\n",
              "  </tbody>\n",
              "</table>\n",
              "<p>23377 rows × 7 columns</p>\n",
              "</div>"
            ],
            "text/plain": [
              "       0   1     2   3     4   5   6\n",
              "0     01  30    60  30    90   1  30\n",
              "1     01  32    60  32    92   1  32\n",
              "2     01  36    60  36    96   1  36\n",
              "3     01  38    60  38    98   1  38\n",
              "4     01  41    60  41   101   1  41\n",
              "...   ..  ..   ...  ..   ...  ..  ..\n",
              "3372  20  18  1200  18  1218  20  18\n",
              "3373  23  09  1380   9  1389  23   9\n",
              "3374  23  14  1380  14  1394  23  14\n",
              "3375  23  17  1380  17  1397  23  17\n",
              "3376  23  21  1380  21  1401  23  21\n",
              "\n",
              "[23377 rows x 7 columns]"
            ]
          },
          "execution_count": 45,
          "metadata": {},
          "output_type": "execute_result"
        }
      ],
      "source": [
        "#convert the time to be calculated in minutes\n",
        "#also needs to be converted frmo string to int\n",
        "\n",
        "myHrsMin = myEndTime[1].str.split(\":\", expand = True)\n",
        "#myHrsMin\n",
        "myHrsMin[2] = myHrsMin[0]\n",
        "myHrsMin[3] = myHrsMin[1]\n",
        "\n",
        "# converting all columns to int type\n",
        "myHrsMin[2] = myHrsMin[2].astype(int)\n",
        "myHrsMin[3] = myHrsMin[3].astype(int)\n",
        "myHrsMin[2] = myHrsMin[2].mul(60)\n",
        "\n",
        "myHrsMin[4] = myHrsMin[2]\n",
        "myHrsMin[4] = myHrsMin[4].add(myHrsMin[3])\n",
        "#myHrsMin[5] = myHrsMin[4].astype(str) (Col 4 (Time in Minutes) as a string)\n",
        "\n",
        "print(myHrsMin.dtypes)\n",
        "myHrsMin\n",
        "\n",
        "#Convert back using this \n",
        "myHrsMin[5] = myHrsMin[4].floordiv(60)\n",
        "myHrsMin[6] = myHrsMin[4].mod(60)\n",
        "print(myHrsMin.dtypes)\n",
        "myHrsMin"
      ]
    },
    {
      "cell_type": "code",
      "execution_count": null,
      "id": "2452004f",
      "metadata": {
        "id": "2452004f"
      },
      "outputs": [],
      "source": [
        "df_tableau['TimeOfDay'] = myHrsMin[4]\n",
        "#df_stream\n",
        "#df_library\n",
        "#df_tableau #going to use from now on"
      ]
    },
    {
      "cell_type": "code",
      "execution_count": null,
      "id": "7ad5ec1b",
      "metadata": {
        "id": "7ad5ec1b",
        "outputId": "812a709c-36be-4b68-cb7d-b8ba4d8dcb80"
      },
      "outputs": [
        {
          "data": {
            "text/html": [
              "<div>\n",
              "<style scoped>\n",
              "    .dataframe tbody tr th:only-of-type {\n",
              "        vertical-align: middle;\n",
              "    }\n",
              "\n",
              "    .dataframe tbody tr th {\n",
              "        vertical-align: top;\n",
              "    }\n",
              "\n",
              "    .dataframe thead th {\n",
              "        text-align: right;\n",
              "    }\n",
              "</style>\n",
              "<table border=\"1\" class=\"dataframe\">\n",
              "  <thead>\n",
              "    <tr style=\"text-align: right;\">\n",
              "      <th></th>\n",
              "      <th>endTime</th>\n",
              "      <th>artistName</th>\n",
              "      <th>trackName</th>\n",
              "      <th>msPlayed</th>\n",
              "      <th>TimeOfDay</th>\n",
              "      <th>UniqueID</th>\n",
              "    </tr>\n",
              "  </thead>\n",
              "  <tbody>\n",
              "    <tr>\n",
              "      <th>0</th>\n",
              "      <td>2021-03-02 01:30</td>\n",
              "      <td>Triathalon</td>\n",
              "      <td>Hard to Move</td>\n",
              "      <td>333045</td>\n",
              "      <td>90</td>\n",
              "      <td>Triathalon:Hard to Move</td>\n",
              "    </tr>\n",
              "    <tr>\n",
              "      <th>1</th>\n",
              "      <td>2021-03-02 01:32</td>\n",
              "      <td>Crumb</td>\n",
              "      <td>Cracking</td>\n",
              "      <td>111986</td>\n",
              "      <td>92</td>\n",
              "      <td>Crumb:Cracking</td>\n",
              "    </tr>\n",
              "    <tr>\n",
              "      <th>2</th>\n",
              "      <td>2021-03-02 01:36</td>\n",
              "      <td>Crumb</td>\n",
              "      <td>Nina</td>\n",
              "      <td>200280</td>\n",
              "      <td>96</td>\n",
              "      <td>Crumb:Nina</td>\n",
              "    </tr>\n",
              "    <tr>\n",
              "      <th>3</th>\n",
              "      <td>2021-03-02 01:38</td>\n",
              "      <td>Crumb</td>\n",
              "      <td>Ghostride</td>\n",
              "      <td>126120</td>\n",
              "      <td>98</td>\n",
              "      <td>Crumb:Ghostride</td>\n",
              "    </tr>\n",
              "    <tr>\n",
              "      <th>4</th>\n",
              "      <td>2021-03-02 01:41</td>\n",
              "      <td>Crumb</td>\n",
              "      <td>Fall Down</td>\n",
              "      <td>173000</td>\n",
              "      <td>101</td>\n",
              "      <td>Crumb:Fall Down</td>\n",
              "    </tr>\n",
              "  </tbody>\n",
              "</table>\n",
              "</div>"
            ],
            "text/plain": [
              "            endTime  artistName     trackName  msPlayed  TimeOfDay  \\\n",
              "0  2021-03-02 01:30  Triathalon  Hard to Move    333045         90   \n",
              "1  2021-03-02 01:32       Crumb      Cracking    111986         92   \n",
              "2  2021-03-02 01:36       Crumb          Nina    200280         96   \n",
              "3  2021-03-02 01:38       Crumb     Ghostride    126120         98   \n",
              "4  2021-03-02 01:41       Crumb     Fall Down    173000        101   \n",
              "\n",
              "                  UniqueID  \n",
              "0  Triathalon:Hard to Move  \n",
              "1           Crumb:Cracking  \n",
              "2               Crumb:Nina  \n",
              "3          Crumb:Ghostride  \n",
              "4          Crumb:Fall Down  "
            ]
          },
          "execution_count": 47,
          "metadata": {},
          "output_type": "execute_result"
        }
      ],
      "source": [
        "df_tableau[['endTime','msPlayed','TimeOfDay','artistName','trackName','UniqueID']]\n",
        "df_tableau = df_tableau.reindex(columns=['endTime','artistName','trackName','msPlayed','TimeOfDay','UniqueID'])\n",
        "df_tableau.head()"
      ]
    },
    {
      "cell_type": "code",
      "execution_count": null,
      "id": "9af90e34",
      "metadata": {
        "id": "9af90e34"
      },
      "outputs": [],
      "source": [
        "df_library['track_uri'] = new[2]"
      ]
    },
    {
      "cell_type": "code",
      "execution_count": null,
      "id": "a9bcc37f",
      "metadata": {
        "id": "a9bcc37f",
        "outputId": "13fc4326-536b-47f6-b072-95b0f37e346c"
      },
      "outputs": [
        {
          "data": {
            "text/html": [
              "<div>\n",
              "<style scoped>\n",
              "    .dataframe tbody tr th:only-of-type {\n",
              "        vertical-align: middle;\n",
              "    }\n",
              "\n",
              "    .dataframe tbody tr th {\n",
              "        vertical-align: top;\n",
              "    }\n",
              "\n",
              "    .dataframe thead th {\n",
              "        text-align: right;\n",
              "    }\n",
              "</style>\n",
              "<table border=\"1\" class=\"dataframe\">\n",
              "  <thead>\n",
              "    <tr style=\"text-align: right;\">\n",
              "      <th></th>\n",
              "      <th>endTime</th>\n",
              "      <th>artistName</th>\n",
              "      <th>trackName</th>\n",
              "      <th>msPlayed</th>\n",
              "      <th>TimeOfDay</th>\n",
              "      <th>UniqueID</th>\n",
              "      <th>album</th>\n",
              "      <th>track_uri</th>\n",
              "    </tr>\n",
              "  </thead>\n",
              "  <tbody>\n",
              "    <tr>\n",
              "      <th>0</th>\n",
              "      <td>2021-03-02 01:30</td>\n",
              "      <td>Triathalon</td>\n",
              "      <td>Hard to Move</td>\n",
              "      <td>333045</td>\n",
              "      <td>90</td>\n",
              "      <td>Triathalon:Hard to Move</td>\n",
              "      <td>NaN</td>\n",
              "      <td>NaN</td>\n",
              "    </tr>\n",
              "    <tr>\n",
              "      <th>1</th>\n",
              "      <td>2021-03-02 01:32</td>\n",
              "      <td>Crumb</td>\n",
              "      <td>Cracking</td>\n",
              "      <td>111986</td>\n",
              "      <td>92</td>\n",
              "      <td>Crumb:Cracking</td>\n",
              "      <td>NaN</td>\n",
              "      <td>NaN</td>\n",
              "    </tr>\n",
              "    <tr>\n",
              "      <th>2</th>\n",
              "      <td>2021-03-02 01:36</td>\n",
              "      <td>Crumb</td>\n",
              "      <td>Nina</td>\n",
              "      <td>200280</td>\n",
              "      <td>96</td>\n",
              "      <td>Crumb:Nina</td>\n",
              "      <td>NaN</td>\n",
              "      <td>NaN</td>\n",
              "    </tr>\n",
              "    <tr>\n",
              "      <th>3</th>\n",
              "      <td>2021-03-02 01:38</td>\n",
              "      <td>Crumb</td>\n",
              "      <td>Ghostride</td>\n",
              "      <td>126120</td>\n",
              "      <td>98</td>\n",
              "      <td>Crumb:Ghostride</td>\n",
              "      <td>NaN</td>\n",
              "      <td>NaN</td>\n",
              "    </tr>\n",
              "    <tr>\n",
              "      <th>4</th>\n",
              "      <td>2021-03-02 01:41</td>\n",
              "      <td>Crumb</td>\n",
              "      <td>Fall Down</td>\n",
              "      <td>173000</td>\n",
              "      <td>101</td>\n",
              "      <td>Crumb:Fall Down</td>\n",
              "      <td>NaN</td>\n",
              "      <td>NaN</td>\n",
              "    </tr>\n",
              "  </tbody>\n",
              "</table>\n",
              "</div>"
            ],
            "text/plain": [
              "            endTime  artistName     trackName  msPlayed  TimeOfDay  \\\n",
              "0  2021-03-02 01:30  Triathalon  Hard to Move    333045         90   \n",
              "1  2021-03-02 01:32       Crumb      Cracking    111986         92   \n",
              "2  2021-03-02 01:36       Crumb          Nina    200280         96   \n",
              "3  2021-03-02 01:38       Crumb     Ghostride    126120         98   \n",
              "4  2021-03-02 01:41       Crumb     Fall Down    173000        101   \n",
              "\n",
              "                  UniqueID album track_uri  \n",
              "0  Triathalon:Hard to Move   NaN       NaN  \n",
              "1           Crumb:Cracking   NaN       NaN  \n",
              "2               Crumb:Nina   NaN       NaN  \n",
              "3          Crumb:Ghostride   NaN       NaN  \n",
              "4          Crumb:Fall Down   NaN       NaN  "
            ]
          },
          "execution_count": 49,
          "metadata": {},
          "output_type": "execute_result"
        }
      ],
      "source": [
        "# we now want to merge our streaming data DataFrame and our Library data frame \n",
        "df_tableau = pd.merge(df_tableau, df_library[['album','UniqueID','track_uri']],how='left',on=['UniqueID'])\n",
        "# we left join with df_library on UniqueID to bring in album and track_uri\n",
        "\n",
        "df_tableau[['endTime','msPlayed','TimeOfDay','artistName','trackName','UniqueID','album','track_uri']]\n",
        "df_tableau.head()"
      ]
    },
    {
      "cell_type": "code",
      "execution_count": null,
      "id": "db784b72",
      "metadata": {
        "id": "db784b72"
      },
      "outputs": [],
      "source": [
        "# create blank dictionary to store track URI, artist URI, and genres\n",
        "dict_genre = {}\n",
        "\n",
        "# convert track_uri column to an iterable list\n",
        "track_uris = df_library['track_uri'].to_list()\n"
      ]
    },
    {
      "cell_type": "code",
      "execution_count": null,
      "id": "ff730d6a",
      "metadata": {
        "id": "ff730d6a"
      },
      "outputs": [],
      "source": [
        "# loop through track URIs and pull artist URI using the API,\n",
        "# then use artist URI to pull genres associated with that artist\n",
        "# store all these in a dictionary\n",
        "for t_uri in track_uris:\n",
        "    #the key of the dictionary will be the track_uri and the values for each key will be the artist uri and a list of genres\n",
        "    dict_genre[t_uri] = {'artist_uri': \"\", \"genres\":[]}\n",
        "    \n",
        "    #request to get the track information based on the spotify endpoint and the track_uri\n",
        "    r = requests.get(BASE_URL + 'tracks/' + t_uri, headers=headers)\n",
        "    #turn into json format to access important information \n",
        "    r = r.json()\n",
        "    #get the artist uri from the json file \n",
        "    a_uri = r['artists'][0]['uri'].split(':')[2]\n",
        "    #place the artist uri for the corresponding track uri in the dictionary \n",
        "    dict_genre[t_uri]['artist_uri'] = a_uri\n",
        "    #now use the artist uri to get the genres\n",
        "    \n",
        "    s = requests.get(BASE_URL + 'artists/' + a_uri, headers=headers)\n",
        "    #turn into json format to access important information \n",
        "    s = s.json()\n",
        "    #put the corresponding genres in the dictionary for th\n",
        "    dict_genre[t_uri]['genres'] = s['genres']\n",
        "\n",
        "#dict_genre"
      ]
    },
    {
      "cell_type": "code",
      "execution_count": null,
      "id": "c9c7336a",
      "metadata": {
        "id": "c9c7336a"
      },
      "outputs": [],
      "source": [
        "#convert the dictionary to a Data Frame \n",
        "df_genre = pd.DataFrame.from_dict(dict_genre, orient='index')\n",
        "#df_genre.head()\n"
      ]
    },
    {
      "cell_type": "code",
      "execution_count": null,
      "id": "8f653338",
      "metadata": {
        "id": "8f653338"
      },
      "outputs": [],
      "source": [
        "#make the first column be the track uri\n",
        "df_genre.insert(0, 'track_uri', df_genre.index)\n",
        "#df_genre.head()\n"
      ]
    },
    {
      "cell_type": "code",
      "execution_count": null,
      "id": "3aac1a13",
      "metadata": {
        "id": "3aac1a13",
        "outputId": "b5a0e52b-f780-49b9-968d-e85c60fd0bc6"
      },
      "outputs": [
        {
          "name": "stdout",
          "output_type": "stream",
          "text": [
            "252\n"
          ]
        },
        {
          "data": {
            "text/html": [
              "<div>\n",
              "<style scoped>\n",
              "    .dataframe tbody tr th:only-of-type {\n",
              "        vertical-align: middle;\n",
              "    }\n",
              "\n",
              "    .dataframe tbody tr th {\n",
              "        vertical-align: top;\n",
              "    }\n",
              "\n",
              "    .dataframe thead th {\n",
              "        text-align: right;\n",
              "    }\n",
              "</style>\n",
              "<table border=\"1\" class=\"dataframe\">\n",
              "  <thead>\n",
              "    <tr style=\"text-align: right;\">\n",
              "      <th></th>\n",
              "      <th>track_uri</th>\n",
              "      <th>artist_uri</th>\n",
              "      <th>genres</th>\n",
              "    </tr>\n",
              "  </thead>\n",
              "  <tbody>\n",
              "    <tr>\n",
              "      <th>0</th>\n",
              "      <td>5k8LB57xOq8UUNVaKWSqrf</td>\n",
              "      <td>2h93pZq0e7k5yf4dywlkpM</td>\n",
              "      <td>alternative r&amp;b</td>\n",
              "    </tr>\n",
              "    <tr>\n",
              "      <th>0</th>\n",
              "      <td>5k8LB57xOq8UUNVaKWSqrf</td>\n",
              "      <td>2h93pZq0e7k5yf4dywlkpM</td>\n",
              "      <td>hip hop</td>\n",
              "    </tr>\n",
              "    <tr>\n",
              "      <th>0</th>\n",
              "      <td>5k8LB57xOq8UUNVaKWSqrf</td>\n",
              "      <td>2h93pZq0e7k5yf4dywlkpM</td>\n",
              "      <td>lgbtq+ hip hop</td>\n",
              "    </tr>\n",
              "    <tr>\n",
              "      <th>0</th>\n",
              "      <td>5k8LB57xOq8UUNVaKWSqrf</td>\n",
              "      <td>2h93pZq0e7k5yf4dywlkpM</td>\n",
              "      <td>neo soul</td>\n",
              "    </tr>\n",
              "    <tr>\n",
              "      <th>0</th>\n",
              "      <td>5k8LB57xOq8UUNVaKWSqrf</td>\n",
              "      <td>2h93pZq0e7k5yf4dywlkpM</td>\n",
              "      <td>pop</td>\n",
              "    </tr>\n",
              "  </tbody>\n",
              "</table>\n",
              "</div>"
            ],
            "text/plain": [
              "                track_uri              artist_uri           genres\n",
              "0  5k8LB57xOq8UUNVaKWSqrf  2h93pZq0e7k5yf4dywlkpM  alternative r&b\n",
              "0  5k8LB57xOq8UUNVaKWSqrf  2h93pZq0e7k5yf4dywlkpM          hip hop\n",
              "0  5k8LB57xOq8UUNVaKWSqrf  2h93pZq0e7k5yf4dywlkpM   lgbtq+ hip hop\n",
              "0  5k8LB57xOq8UUNVaKWSqrf  2h93pZq0e7k5yf4dywlkpM         neo soul\n",
              "0  5k8LB57xOq8UUNVaKWSqrf  2h93pZq0e7k5yf4dywlkpM              pop"
            ]
          },
          "execution_count": 55,
          "metadata": {},
          "output_type": "execute_result"
        }
      ],
      "source": [
        "df_genre.reset_index(inplace=True, drop=True)\n",
        "print(len(df_genre))\n",
        "#df_genre.head()\n",
        "#df_genre\n",
        "#expanding the genres for each index and track uri \n",
        "df_genre_expanded = df_genre.explode('genres')\n",
        "df_genre_expanded.head()"
      ]
    },
    {
      "cell_type": "code",
      "execution_count": null,
      "id": "6e52a14d",
      "metadata": {
        "id": "6e52a14d",
        "outputId": "7eb22892-35ec-403b-c277-557961e68307"
      },
      "outputs": [
        {
          "data": {
            "text/plain": [
              "0      [alternative r&b, hip hop, lgbtq+ hip hop, neo...\n",
              "1                                            [indie pop]\n",
              "2      [alternative pop, alternative rock, anti-folk,...\n",
              "3      [gangster rap, hip hop, pop rap, rap, southern...\n",
              "4      [canadian hip hop, canadian pop, hip hop, rap,...\n",
              "                             ...                        \n",
              "247                       [alternative rock, indie rock]\n",
              "248    [alternative pop, alternative rock, britpop, d...\n",
              "249                             [pop rap, reggae fusion]\n",
              "250                           [chicago rap, melodic rap]\n",
              "251    [alternative r&b, art pop, chillwave, electrop...\n",
              "Name: genres, Length: 252, dtype: object"
            ]
          },
          "execution_count": 56,
          "metadata": {},
          "output_type": "execute_result"
        }
      ],
      "source": [
        "df_genre[\"genres\"]"
      ]
    },
    {
      "cell_type": "code",
      "execution_count": null,
      "id": "0804ce5c",
      "metadata": {
        "id": "0804ce5c",
        "outputId": "eac77418-171f-4edf-c9c7-f77ac25724cd"
      },
      "outputs": [
        {
          "name": "stdout",
          "output_type": "stream",
          "text": [
            "done\n"
          ]
        }
      ],
      "source": [
        "#convert data frame to csv file\n",
        "df_genre.to_csv('GenreTable.csv')\n",
        "df_tableau.to_csv('MySpotifyDataTable.csv')\n",
        "df_genre_expanded.to_csv('GenresExpandedTable.csv')\n",
        "\n",
        "print('done')"
      ]
    },
    {
      "cell_type": "code",
      "execution_count": null,
      "id": "bf134caa",
      "metadata": {
        "id": "bf134caa"
      },
      "outputs": [],
      "source": [
        "from sklearn import metrics\n",
        "from sklearn.cluster import KMeans\n",
        "from sklearn.datasets import load_digits\n",
        "from sklearn.decomposition import PCA\n",
        "from sklearn.preprocessing import scale"
      ]
    },
    {
      "cell_type": "code",
      "execution_count": null,
      "id": "07d1a5b3",
      "metadata": {
        "id": "07d1a5b3"
      },
      "outputs": [],
      "source": [
        "# creating a copy of the dataset\n",
        "#df_cluster = df.copy()\n",
        "#df_cluster = df_cluster.iloc[:300]\n",
        "#df_cluster.to_csv('df_brasil.csv', index=0)"
      ]
    },
    {
      "cell_type": "code",
      "execution_count": null,
      "id": "c28f73a8",
      "metadata": {
        "id": "c28f73a8",
        "outputId": "35df252e-c520-4f06-8924-a17ff5ceb90a"
      },
      "outputs": [
        {
          "data": {
            "text/plain": [
              "Index(['endTime', 'artistName', 'trackName', 'msPlayed', 'TimeOfDay',\n",
              "       'UniqueID', 'album', 'track_uri'],\n",
              "      dtype='object')"
            ]
          },
          "execution_count": 60,
          "metadata": {},
          "output_type": "execute_result"
        }
      ],
      "source": [
        "X = pd.DataFrame(df_tableau.iloc[:, [3,4]].values)\n",
        "df_tableau.columns"
      ]
    },
    {
      "cell_type": "code",
      "execution_count": null,
      "id": "d921c098",
      "metadata": {
        "id": "d921c098",
        "outputId": "5912b420-21f0-4ef7-be3f-eb059b232029"
      },
      "outputs": [
        {
          "data": {
            "text/html": [
              "<div>\n",
              "<style scoped>\n",
              "    .dataframe tbody tr th:only-of-type {\n",
              "        vertical-align: middle;\n",
              "    }\n",
              "\n",
              "    .dataframe tbody tr th {\n",
              "        vertical-align: top;\n",
              "    }\n",
              "\n",
              "    .dataframe thead th {\n",
              "        text-align: right;\n",
              "    }\n",
              "</style>\n",
              "<table border=\"1\" class=\"dataframe\">\n",
              "  <thead>\n",
              "    <tr style=\"text-align: right;\">\n",
              "      <th></th>\n",
              "      <th>msPlayed</th>\n",
              "      <th>TimeOfDay</th>\n",
              "    </tr>\n",
              "  </thead>\n",
              "  <tbody>\n",
              "    <tr>\n",
              "      <th>0</th>\n",
              "      <td>333045</td>\n",
              "      <td>90</td>\n",
              "    </tr>\n",
              "    <tr>\n",
              "      <th>1</th>\n",
              "      <td>111986</td>\n",
              "      <td>92</td>\n",
              "    </tr>\n",
              "    <tr>\n",
              "      <th>2</th>\n",
              "      <td>200280</td>\n",
              "      <td>96</td>\n",
              "    </tr>\n",
              "    <tr>\n",
              "      <th>3</th>\n",
              "      <td>126120</td>\n",
              "      <td>98</td>\n",
              "    </tr>\n",
              "    <tr>\n",
              "      <th>4</th>\n",
              "      <td>173000</td>\n",
              "      <td>101</td>\n",
              "    </tr>\n",
              "  </tbody>\n",
              "</table>\n",
              "</div>"
            ],
            "text/plain": [
              "   msPlayed  TimeOfDay\n",
              "0    333045         90\n",
              "1    111986         92\n",
              "2    200280         96\n",
              "3    126120         98\n",
              "4    173000        101"
            ]
          },
          "execution_count": 61,
          "metadata": {},
          "output_type": "execute_result"
        }
      ],
      "source": [
        "cols = df_tableau.iloc[:, [3,4]].columns\n",
        "X.columns = cols\n",
        "X.head()"
      ]
    },
    {
      "cell_type": "code",
      "execution_count": null,
      "id": "a56f2a41",
      "metadata": {
        "id": "a56f2a41",
        "outputId": "3d81b271-a071-479f-cb34-3475267b939f"
      },
      "outputs": [
        {
          "name": "stdout",
          "output_type": "stream",
          "text": [
            "(23597, 2)\n"
          ]
        },
        {
          "data": {
            "text/html": [
              "<div>\n",
              "<style scoped>\n",
              "    .dataframe tbody tr th:only-of-type {\n",
              "        vertical-align: middle;\n",
              "    }\n",
              "\n",
              "    .dataframe tbody tr th {\n",
              "        vertical-align: top;\n",
              "    }\n",
              "\n",
              "    .dataframe thead th {\n",
              "        text-align: right;\n",
              "    }\n",
              "</style>\n",
              "<table border=\"1\" class=\"dataframe\">\n",
              "  <thead>\n",
              "    <tr style=\"text-align: right;\">\n",
              "      <th></th>\n",
              "      <th>endTime</th>\n",
              "      <th>artistName</th>\n",
              "      <th>trackName</th>\n",
              "      <th>msPlayed</th>\n",
              "      <th>TimeOfDay</th>\n",
              "      <th>UniqueID</th>\n",
              "      <th>album</th>\n",
              "      <th>track_uri</th>\n",
              "    </tr>\n",
              "  </thead>\n",
              "  <tbody>\n",
              "    <tr>\n",
              "      <th>0</th>\n",
              "      <td>2021-03-02 01:30</td>\n",
              "      <td>Triathalon</td>\n",
              "      <td>Hard to Move</td>\n",
              "      <td>333045</td>\n",
              "      <td>90</td>\n",
              "      <td>Triathalon:Hard to Move</td>\n",
              "      <td>NaN</td>\n",
              "      <td>NaN</td>\n",
              "    </tr>\n",
              "    <tr>\n",
              "      <th>1</th>\n",
              "      <td>2021-03-02 01:32</td>\n",
              "      <td>Crumb</td>\n",
              "      <td>Cracking</td>\n",
              "      <td>111986</td>\n",
              "      <td>92</td>\n",
              "      <td>Crumb:Cracking</td>\n",
              "      <td>NaN</td>\n",
              "      <td>NaN</td>\n",
              "    </tr>\n",
              "    <tr>\n",
              "      <th>2</th>\n",
              "      <td>2021-03-02 01:36</td>\n",
              "      <td>Crumb</td>\n",
              "      <td>Nina</td>\n",
              "      <td>200280</td>\n",
              "      <td>96</td>\n",
              "      <td>Crumb:Nina</td>\n",
              "      <td>NaN</td>\n",
              "      <td>NaN</td>\n",
              "    </tr>\n",
              "    <tr>\n",
              "      <th>3</th>\n",
              "      <td>2021-03-02 01:38</td>\n",
              "      <td>Crumb</td>\n",
              "      <td>Ghostride</td>\n",
              "      <td>126120</td>\n",
              "      <td>98</td>\n",
              "      <td>Crumb:Ghostride</td>\n",
              "      <td>NaN</td>\n",
              "      <td>NaN</td>\n",
              "    </tr>\n",
              "    <tr>\n",
              "      <th>4</th>\n",
              "      <td>2021-03-02 01:41</td>\n",
              "      <td>Crumb</td>\n",
              "      <td>Fall Down</td>\n",
              "      <td>173000</td>\n",
              "      <td>101</td>\n",
              "      <td>Crumb:Fall Down</td>\n",
              "      <td>NaN</td>\n",
              "      <td>NaN</td>\n",
              "    </tr>\n",
              "  </tbody>\n",
              "</table>\n",
              "</div>"
            ],
            "text/plain": [
              "            endTime  artistName     trackName  msPlayed  TimeOfDay  \\\n",
              "0  2021-03-02 01:30  Triathalon  Hard to Move    333045         90   \n",
              "1  2021-03-02 01:32       Crumb      Cracking    111986         92   \n",
              "2  2021-03-02 01:36       Crumb          Nina    200280         96   \n",
              "3  2021-03-02 01:38       Crumb     Ghostride    126120         98   \n",
              "4  2021-03-02 01:41       Crumb     Fall Down    173000        101   \n",
              "\n",
              "                  UniqueID album track_uri  \n",
              "0  Triathalon:Hard to Move   NaN       NaN  \n",
              "1           Crumb:Cracking   NaN       NaN  \n",
              "2               Crumb:Nina   NaN       NaN  \n",
              "3          Crumb:Ghostride   NaN       NaN  \n",
              "4          Crumb:Fall Down   NaN       NaN  "
            ]
          },
          "execution_count": 62,
          "metadata": {},
          "output_type": "execute_result"
        }
      ],
      "source": [
        "print(X.shape)\n",
        "df_tableau.head()"
      ]
    },
    {
      "cell_type": "code",
      "execution_count": null,
      "id": "1ef42b95",
      "metadata": {
        "id": "1ef42b95",
        "outputId": "07004edc-de6c-4683-a517-03db00a1dc0c"
      },
      "outputs": [
        {
          "data": {
            "text/html": [
              "<div>\n",
              "<style scoped>\n",
              "    .dataframe tbody tr th:only-of-type {\n",
              "        vertical-align: middle;\n",
              "    }\n",
              "\n",
              "    .dataframe tbody tr th {\n",
              "        vertical-align: top;\n",
              "    }\n",
              "\n",
              "    .dataframe thead th {\n",
              "        text-align: right;\n",
              "    }\n",
              "</style>\n",
              "<table border=\"1\" class=\"dataframe\">\n",
              "  <thead>\n",
              "    <tr style=\"text-align: right;\">\n",
              "      <th></th>\n",
              "      <th>msPlayed</th>\n",
              "      <th>TimeOfDay</th>\n",
              "    </tr>\n",
              "  </thead>\n",
              "  <tbody>\n",
              "    <tr>\n",
              "      <th>23592</th>\n",
              "      <td>0.002308</td>\n",
              "      <td>0.846421</td>\n",
              "    </tr>\n",
              "    <tr>\n",
              "      <th>23593</th>\n",
              "      <td>0.008094</td>\n",
              "      <td>0.965254</td>\n",
              "    </tr>\n",
              "    <tr>\n",
              "      <th>23594</th>\n",
              "      <td>0.010512</td>\n",
              "      <td>0.968728</td>\n",
              "    </tr>\n",
              "    <tr>\n",
              "      <th>23595</th>\n",
              "      <td>0.007306</td>\n",
              "      <td>0.970813</td>\n",
              "    </tr>\n",
              "    <tr>\n",
              "      <th>23596</th>\n",
              "      <td>0.009886</td>\n",
              "      <td>0.973593</td>\n",
              "    </tr>\n",
              "  </tbody>\n",
              "</table>\n",
              "</div>"
            ],
            "text/plain": [
              "       msPlayed  TimeOfDay\n",
              "23592  0.002308   0.846421\n",
              "23593  0.008094   0.965254\n",
              "23594  0.010512   0.968728\n",
              "23595  0.007306   0.970813\n",
              "23596  0.009886   0.973593"
            ]
          },
          "execution_count": 63,
          "metadata": {},
          "output_type": "execute_result"
        }
      ],
      "source": [
        "# data preprocessing\n",
        "from sklearn.preprocessing import MinMaxScaler\n",
        "scaler = MinMaxScaler()\n",
        "scaled = pd.DataFrame(scaler.fit_transform(X))\n",
        "scaled.columns = cols\n",
        "scaled.head()\n",
        "scaled.tail()"
      ]
    },
    {
      "cell_type": "code",
      "execution_count": null,
      "id": "28da2284",
      "metadata": {
        "id": "28da2284"
      },
      "outputs": [],
      "source": [
        "scaled= scaler.fit_transform(X)\n",
        "# instantiating model\n",
        "kmeans = KMeans(n_clusters = 9, init = 'k-means++', max_iter = 300, n_init = 10, random_state = 0)\n",
        "y_kmeans = kmeans.fit_predict(scaled)"
      ]
    },
    {
      "cell_type": "code",
      "execution_count": null,
      "id": "db366602",
      "metadata": {
        "id": "db366602",
        "outputId": "4f998508-2d35-4e44-8188-134cb91a920d"
      },
      "outputs": [
        {
          "data": {
            "image/png": "[encoded data removed]",
            "text/plain": [
              "<Figure size 432x288 with 1 Axes>"
            ]
          },
          "metadata": {
            "needs_background": "light"
          },
          "output_type": "display_data"
        }
      ],
      "source": [
        "# finding out the proper number of clusters\n",
        "wcss = []\n",
        "for i in range(1,15):\n",
        "  kmeans = KMeans(n_clusters = i, init = 'k-means++', max_iter = 300, n_init = 10, random_state = 0)\n",
        "  kmeans.fit(scaled)\n",
        "  wcss.append(kmeans.inertia_)\n",
        "plt.plot(range(1,15), wcss, 'o')\n",
        "plt.plot(range(1 , 15) , wcss , '-' , alpha = 0.5)\n",
        "plt.title('Elbow Method')\n",
        "plt.xlabel('Number of Clusters')\n",
        "plt.ylabel('WCSS')\n",
        "plt.savefig('Elbow_Method.png')\n",
        "plt.show()"
      ]
    },
    {
      "cell_type": "code",
      "execution_count": null,
      "id": "482070fd",
      "metadata": {
        "id": "482070fd",
        "outputId": "cc0a22b4-4a8d-4ff6-ef69-ef861ab7dafb"
      },
      "outputs": [
        {
          "data": {
            "image/png": "[encoded data removed]",
            "text/plain": [
              "<Figure size 936x792 with 2 Axes>"
            ]
          },
          "metadata": {
            "needs_background": "light"
          },
          "output_type": "display_data"
        }
      ],
      "source": [
        "from mpl_toolkits.mplot3d import Axes3D\n",
        "# visualizing clusters\n",
        "fig, ax = plt.subplots(figsize=(13,11))\n",
        "ax = fig.add_subplot(111, projection='3d')\n",
        "plt.scatter(scaled[y_kmeans == 0,0],scaled[y_kmeans == 0,1], s= 50, c= 'red',label= 'Cluster 1')\n",
        "plt.scatter(scaled[y_kmeans == 1,0], scaled[y_kmeans == 1,1], s= 50, c= 'blue', label= 'Cluster 2')\n",
        "plt.scatter(scaled[y_kmeans == 2,0], scaled[y_kmeans == 2,1], s= 50, c= 'green', label= 'Cluster 3')\n",
        "plt.scatter(scaled[y_kmeans == 3,0], scaled[y_kmeans == 3,1], s= 50, c= 'cyan', label= 'Cluster 4')\n",
        "plt.scatter(scaled[y_kmeans == 4,0], scaled[y_kmeans == 4,1], s= 50, c= 'magenta', label= 'Cluster 5')\n",
        "plt.scatter(scaled[y_kmeans == 5,0], scaled[y_kmeans == 5,1], s= 50, c= 'gray', label= 'Cluster 6')\n",
        "plt.scatter(scaled[y_kmeans == 6,0], scaled[y_kmeans == 6,1], s= 50, c= 'purple', label= 'Cluster 7')\n",
        "plt.scatter(scaled[y_kmeans == 7,0], scaled[y_kmeans == 7,1], s= 50, c= 'pink', label= 'Cluster 8')\n",
        "plt.scatter(scaled[y_kmeans == 8,0], scaled[y_kmeans == 8,1], s= 50, c= 'silver', label= 'Cluster 9')\n",
        "\n",
        "# centroids\n",
        "plt.scatter(kmeans.cluster_centers_[:, 0], kmeans.cluster_centers_[:,1], s= 300, c= 'yellow', label= 'Centroids')\n",
        "plt.title('Clusters')\n",
        "plt.legend()\n",
        "plt.savefig('clusters.png')\n",
        "plt.show()"
      ]
    },
    {
      "cell_type": "code",
      "execution_count": null,
      "id": "9b7dc7fb",
      "metadata": {
        "id": "9b7dc7fb"
      },
      "outputs": [],
      "source": [
        ""
      ]
    },
    {
      "cell_type": "code",
      "execution_count": null,
      "id": "70b2d324",
      "metadata": {
        "id": "70b2d324",
        "outputId": "0705a7c3-768a-471a-e3b6-76d31df23d6d"
      },
      "outputs": [
        {
          "name": "stdout",
          "output_type": "stream",
          "text": [
            "(23597, 1)\n"
          ]
        },
        {
          "data": {
            "text/html": [
              "<div>\n",
              "<style scoped>\n",
              "    .dataframe tbody tr th:only-of-type {\n",
              "        vertical-align: middle;\n",
              "    }\n",
              "\n",
              "    .dataframe tbody tr th {\n",
              "        vertical-align: top;\n",
              "    }\n",
              "\n",
              "    .dataframe thead th {\n",
              "        text-align: right;\n",
              "    }\n",
              "</style>\n",
              "<table border=\"1\" class=\"dataframe\">\n",
              "  <thead>\n",
              "    <tr style=\"text-align: right;\">\n",
              "      <th></th>\n",
              "      <th>k_cluster</th>\n",
              "    </tr>\n",
              "  </thead>\n",
              "  <tbody>\n",
              "    <tr>\n",
              "      <th>0</th>\n",
              "      <td>3</td>\n",
              "    </tr>\n",
              "    <tr>\n",
              "      <th>1</th>\n",
              "      <td>3</td>\n",
              "    </tr>\n",
              "    <tr>\n",
              "      <th>2</th>\n",
              "      <td>3</td>\n",
              "    </tr>\n",
              "    <tr>\n",
              "      <th>3</th>\n",
              "      <td>3</td>\n",
              "    </tr>\n",
              "    <tr>\n",
              "      <th>4</th>\n",
              "      <td>3</td>\n",
              "    </tr>\n",
              "  </tbody>\n",
              "</table>\n",
              "</div>"
            ],
            "text/plain": [
              "   k_cluster\n",
              "0          3\n",
              "1          3\n",
              "2          3\n",
              "3          3\n",
              "4          3"
            ]
          },
          "execution_count": 67,
          "metadata": {},
          "output_type": "execute_result"
        }
      ],
      "source": [
        "# predictions \n",
        "y_kmeans\n",
        "\n",
        "# converting preditcions into a df\n",
        "kmeans = pd.DataFrame(data=y_kmeans, dtype=int)\n",
        "kmeans.columns = ['k_cluster']\n",
        "\n",
        "# predictions as a df\n",
        "print(kmeans.shape)\n",
        "kmeans.head()"
      ]
    },
    {
      "cell_type": "code",
      "execution_count": null,
      "id": "d1849179",
      "metadata": {
        "id": "d1849179",
        "outputId": "cfa1eb77-69f2-4a4d-c6d7-fa3dd716c941"
      },
      "outputs": [
        {
          "name": "stdout",
          "output_type": "stream",
          "text": [
            "(23597, 9)\n"
          ]
        },
        {
          "data": {
            "text/html": [
              "<div>\n",
              "<style scoped>\n",
              "    .dataframe tbody tr th:only-of-type {\n",
              "        vertical-align: middle;\n",
              "    }\n",
              "\n",
              "    .dataframe tbody tr th {\n",
              "        vertical-align: top;\n",
              "    }\n",
              "\n",
              "    .dataframe thead th {\n",
              "        text-align: right;\n",
              "    }\n",
              "</style>\n",
              "<table border=\"1\" class=\"dataframe\">\n",
              "  <thead>\n",
              "    <tr style=\"text-align: right;\">\n",
              "      <th></th>\n",
              "      <th>endTime</th>\n",
              "      <th>artistName</th>\n",
              "      <th>trackName</th>\n",
              "      <th>msPlayed</th>\n",
              "      <th>TimeOfDay</th>\n",
              "      <th>UniqueID</th>\n",
              "      <th>album</th>\n",
              "      <th>track_uri</th>\n",
              "      <th>k_cluster</th>\n",
              "    </tr>\n",
              "  </thead>\n",
              "  <tbody>\n",
              "    <tr>\n",
              "      <th>0</th>\n",
              "      <td>2021-03-02 01:30</td>\n",
              "      <td>Triathalon</td>\n",
              "      <td>Hard to Move</td>\n",
              "      <td>333045</td>\n",
              "      <td>90</td>\n",
              "      <td>Triathalon:Hard to Move</td>\n",
              "      <td>NaN</td>\n",
              "      <td>NaN</td>\n",
              "      <td>3</td>\n",
              "    </tr>\n",
              "    <tr>\n",
              "      <th>1</th>\n",
              "      <td>2021-03-02 01:32</td>\n",
              "      <td>Crumb</td>\n",
              "      <td>Cracking</td>\n",
              "      <td>111986</td>\n",
              "      <td>92</td>\n",
              "      <td>Crumb:Cracking</td>\n",
              "      <td>NaN</td>\n",
              "      <td>NaN</td>\n",
              "      <td>3</td>\n",
              "    </tr>\n",
              "    <tr>\n",
              "      <th>2</th>\n",
              "      <td>2021-03-02 01:36</td>\n",
              "      <td>Crumb</td>\n",
              "      <td>Nina</td>\n",
              "      <td>200280</td>\n",
              "      <td>96</td>\n",
              "      <td>Crumb:Nina</td>\n",
              "      <td>NaN</td>\n",
              "      <td>NaN</td>\n",
              "      <td>3</td>\n",
              "    </tr>\n",
              "    <tr>\n",
              "      <th>3</th>\n",
              "      <td>2021-03-02 01:38</td>\n",
              "      <td>Crumb</td>\n",
              "      <td>Ghostride</td>\n",
              "      <td>126120</td>\n",
              "      <td>98</td>\n",
              "      <td>Crumb:Ghostride</td>\n",
              "      <td>NaN</td>\n",
              "      <td>NaN</td>\n",
              "      <td>3</td>\n",
              "    </tr>\n",
              "    <tr>\n",
              "      <th>4</th>\n",
              "      <td>2021-03-02 01:41</td>\n",
              "      <td>Crumb</td>\n",
              "      <td>Fall Down</td>\n",
              "      <td>173000</td>\n",
              "      <td>101</td>\n",
              "      <td>Crumb:Fall Down</td>\n",
              "      <td>NaN</td>\n",
              "      <td>NaN</td>\n",
              "      <td>3</td>\n",
              "    </tr>\n",
              "  </tbody>\n",
              "</table>\n",
              "</div>"
            ],
            "text/plain": [
              "            endTime  artistName     trackName  msPlayed  TimeOfDay  \\\n",
              "0  2021-03-02 01:30  Triathalon  Hard to Move    333045         90   \n",
              "1  2021-03-02 01:32       Crumb      Cracking    111986         92   \n",
              "2  2021-03-02 01:36       Crumb          Nina    200280         96   \n",
              "3  2021-03-02 01:38       Crumb     Ghostride    126120         98   \n",
              "4  2021-03-02 01:41       Crumb     Fall Down    173000        101   \n",
              "\n",
              "                  UniqueID album track_uri  k_cluster  \n",
              "0  Triathalon:Hard to Move   NaN       NaN          3  \n",
              "1           Crumb:Cracking   NaN       NaN          3  \n",
              "2               Crumb:Nina   NaN       NaN          3  \n",
              "3          Crumb:Ghostride   NaN       NaN          3  \n",
              "4          Crumb:Fall Down   NaN       NaN          3  "
            ]
          },
          "execution_count": 68,
          "metadata": {},
          "output_type": "execute_result"
        }
      ],
      "source": [
        "# concatenating the cluster column to the dataframe\n",
        "df_cluster = pd.concat([df_tableau, kmeans], axis=1)\n",
        "\n",
        "# checking the dataframe\n",
        "print(df_cluster.shape)\n",
        "df_cluster.head()"
      ]
    },
    {
      "cell_type": "code",
      "execution_count": null,
      "id": "1a80c098",
      "metadata": {
        "id": "1a80c098",
        "outputId": "2114fb2f-3360-4831-8c3d-9dad72191ad6"
      },
      "outputs": [
        {
          "data": {
            "text/plain": [
              "album         0.658177\n",
              "track_uri     0.658177\n",
              "endTime       0.000000\n",
              "artistName    0.000000\n",
              "trackName     0.000000\n",
              "msPlayed      0.000000\n",
              "TimeOfDay     0.000000\n",
              "UniqueID      0.000000\n",
              "k_cluster     0.000000\n",
              "dtype: float64"
            ]
          },
          "execution_count": 69,
          "metadata": {},
          "output_type": "execute_result"
        }
      ],
      "source": [
        "# checking for null\n",
        "(df_cluster.isnull().sum()/ df_cluster.shape[0]).sort_values(ascending=False)"
      ]
    },
    {
      "cell_type": "code",
      "execution_count": null,
      "id": "d8f243f6",
      "metadata": {
        "id": "d8f243f6",
        "outputId": "f9993080-6987-49ce-eee1-545a0c035b1a"
      },
      "outputs": [
        {
          "data": {
            "text/plain": [
              "k_cluster\n",
              "4    203082.142504\n",
              "3    197139.441436\n",
              "2    195830.441991\n",
              "1    193807.656810\n",
              "5    192309.264210\n",
              "8    192270.977427\n",
              "7    191863.236902\n",
              "6    189217.423812\n",
              "0    179451.072733\n",
              "Name: msPlayed, dtype: float64"
            ]
          },
          "execution_count": 70,
          "metadata": {},
          "output_type": "execute_result"
        }
      ],
      "source": [
        "# popularity mean by cluster\n",
        "df_cluster.groupby(['k_cluster']).msPlayed.mean().sort_values(ascending=False)"
      ]
    },
    {
      "cell_type": "code",
      "execution_count": null,
      "id": "d2ef565d",
      "metadata": {
        "id": "d2ef565d",
        "outputId": "4ea01a82-65d2-4f9b-ada2-3f9dc3089b79"
      },
      "outputs": [
        {
          "data": {
            "text/plain": [
              "3    3620\n",
              "1    3348\n",
              "0    3231\n",
              "5    3202\n",
              "2    3034\n",
              "7    2634\n",
              "4    2021\n",
              "6    1621\n",
              "8     886\n",
              "Name: k_cluster, dtype: int64"
            ]
          },
          "execution_count": 71,
          "metadata": {},
          "output_type": "execute_result"
        }
      ],
      "source": [
        "# checking number of songs in each cluster\n",
        "df_cluster['k_cluster'].value_counts()"
      ]
    },
    {
      "cell_type": "code",
      "execution_count": null,
      "id": "d0921edc",
      "metadata": {
        "id": "d0921edc"
      },
      "outputs": [],
      "source": [
        ""
      ]
    },
    {
      "cell_type": "code",
      "execution_count": null,
      "id": "e043c829",
      "metadata": {
        "id": "e043c829",
        "outputId": "9972ed1d-b5fa-4bc6-a529-baff226d2802"
      },
      "outputs": [
        {
          "data": {
            "text/html": [
              "<div>\n",
              "<style scoped>\n",
              "    .dataframe tbody tr th:only-of-type {\n",
              "        vertical-align: middle;\n",
              "    }\n",
              "\n",
              "    .dataframe tbody tr th {\n",
              "        vertical-align: top;\n",
              "    }\n",
              "\n",
              "    .dataframe thead th {\n",
              "        text-align: right;\n",
              "    }\n",
              "</style>\n",
              "<table border=\"1\" class=\"dataframe\">\n",
              "  <thead>\n",
              "    <tr style=\"text-align: right;\">\n",
              "      <th></th>\n",
              "      <th>endTime</th>\n",
              "      <th>artistName</th>\n",
              "      <th>trackName</th>\n",
              "      <th>msPlayed</th>\n",
              "      <th>TimeOfDay</th>\n",
              "      <th>UniqueID</th>\n",
              "      <th>album</th>\n",
              "      <th>track_uri</th>\n",
              "      <th>k_cluster</th>\n",
              "    </tr>\n",
              "  </thead>\n",
              "  <tbody>\n",
              "    <tr>\n",
              "      <th>548</th>\n",
              "      <td>2021-03-13 16:38</td>\n",
              "      <td>Teyana Taylor</td>\n",
              "      <td>Rose In Harlem</td>\n",
              "      <td>11660</td>\n",
              "      <td>998</td>\n",
              "      <td>Teyana Taylor:Rose In Harlem</td>\n",
              "      <td>K.T.S.E.</td>\n",
              "      <td>38HcgcQC4suvti0Sa0e5yc</td>\n",
              "      <td>4</td>\n",
              "    </tr>\n",
              "    <tr>\n",
              "      <th>549</th>\n",
              "      <td>2021-03-13 16:38</td>\n",
              "      <td>Medasin</td>\n",
              "      <td>Always Afternoon</td>\n",
              "      <td>169889</td>\n",
              "      <td>998</td>\n",
              "      <td>Medasin:Always Afternoon</td>\n",
              "      <td>Always Afternoon</td>\n",
              "      <td>6GMaQmdpwGolGyuW6ZJ9X9</td>\n",
              "      <td>4</td>\n",
              "    </tr>\n",
              "    <tr>\n",
              "      <th>550</th>\n",
              "      <td>2021-03-13 16:41</td>\n",
              "      <td>H.E.R.</td>\n",
              "      <td>Focus</td>\n",
              "      <td>200133</td>\n",
              "      <td>1001</td>\n",
              "      <td>H.E.R.:Focus</td>\n",
              "      <td>H.E.R.</td>\n",
              "      <td>3tZs3nVjySLbL320lP4mvs</td>\n",
              "      <td>4</td>\n",
              "    </tr>\n",
              "    <tr>\n",
              "      <th>551</th>\n",
              "      <td>2021-03-13 16:44</td>\n",
              "      <td>Solange</td>\n",
              "      <td>Stay Flo</td>\n",
              "      <td>175706</td>\n",
              "      <td>1004</td>\n",
              "      <td>Solange:Stay Flo</td>\n",
              "      <td>When I Get Home</td>\n",
              "      <td>6GCIYIWUBSLontW6divqsw</td>\n",
              "      <td>4</td>\n",
              "    </tr>\n",
              "    <tr>\n",
              "      <th>834</th>\n",
              "      <td>2021-03-19 15:20</td>\n",
              "      <td>The Mellowells</td>\n",
              "      <td>Long Johns</td>\n",
              "      <td>71036</td>\n",
              "      <td>920</td>\n",
              "      <td>The Mellowells:Long Johns</td>\n",
              "      <td>Shindy</td>\n",
              "      <td>48Ir1hGbzjeX3BVeR439cO</td>\n",
              "      <td>4</td>\n",
              "    </tr>\n",
              "    <tr>\n",
              "      <th>835</th>\n",
              "      <td>2021-03-19 15:47</td>\n",
              "      <td>The Mellowells</td>\n",
              "      <td>Long Johns</td>\n",
              "      <td>328016</td>\n",
              "      <td>947</td>\n",
              "      <td>The Mellowells:Long Johns</td>\n",
              "      <td>Shindy</td>\n",
              "      <td>48Ir1hGbzjeX3BVeR439cO</td>\n",
              "      <td>4</td>\n",
              "    </tr>\n",
              "    <tr>\n",
              "      <th>836</th>\n",
              "      <td>2021-03-19 15:47</td>\n",
              "      <td>Glow!</td>\n",
              "      <td>If It Were Me</td>\n",
              "      <td>943</td>\n",
              "      <td>947</td>\n",
              "      <td>Glow!:If It Were Me</td>\n",
              "      <td>If It Were Me</td>\n",
              "      <td>7lDPr3wYYKewaye3RHRXZx</td>\n",
              "      <td>4</td>\n",
              "    </tr>\n",
              "    <tr>\n",
              "      <th>837</th>\n",
              "      <td>2021-03-19 16:39</td>\n",
              "      <td>The Mellowells</td>\n",
              "      <td>Long Johns</td>\n",
              "      <td>276828</td>\n",
              "      <td>999</td>\n",
              "      <td>The Mellowells:Long Johns</td>\n",
              "      <td>Shindy</td>\n",
              "      <td>48Ir1hGbzjeX3BVeR439cO</td>\n",
              "      <td>4</td>\n",
              "    </tr>\n",
              "    <tr>\n",
              "      <th>838</th>\n",
              "      <td>2021-03-19 16:42</td>\n",
              "      <td>Glow!</td>\n",
              "      <td>If It Were Me</td>\n",
              "      <td>196645</td>\n",
              "      <td>1002</td>\n",
              "      <td>Glow!:If It Were Me</td>\n",
              "      <td>If It Were Me</td>\n",
              "      <td>7lDPr3wYYKewaye3RHRXZx</td>\n",
              "      <td>4</td>\n",
              "    </tr>\n",
              "    <tr>\n",
              "      <th>1146</th>\n",
              "      <td>2021-03-22 14:53</td>\n",
              "      <td>Mac DeMarco</td>\n",
              "      <td>Ode to Viceroy</td>\n",
              "      <td>233817</td>\n",
              "      <td>893</td>\n",
              "      <td>Mac DeMarco:Ode to Viceroy</td>\n",
              "      <td>NaN</td>\n",
              "      <td>NaN</td>\n",
              "      <td>4</td>\n",
              "    </tr>\n",
              "  </tbody>\n",
              "</table>\n",
              "</div>"
            ],
            "text/plain": [
              "               endTime      artistName         trackName  msPlayed  TimeOfDay  \\\n",
              "548   2021-03-13 16:38   Teyana Taylor    Rose In Harlem     11660        998   \n",
              "549   2021-03-13 16:38         Medasin  Always Afternoon    169889        998   \n",
              "550   2021-03-13 16:41          H.E.R.             Focus    200133       1001   \n",
              "551   2021-03-13 16:44         Solange          Stay Flo    175706       1004   \n",
              "834   2021-03-19 15:20  The Mellowells        Long Johns     71036        920   \n",
              "835   2021-03-19 15:47  The Mellowells        Long Johns    328016        947   \n",
              "836   2021-03-19 15:47           Glow!     If It Were Me       943        947   \n",
              "837   2021-03-19 16:39  The Mellowells        Long Johns    276828        999   \n",
              "838   2021-03-19 16:42           Glow!     If It Were Me    196645       1002   \n",
              "1146  2021-03-22 14:53     Mac DeMarco    Ode to Viceroy    233817        893   \n",
              "\n",
              "                          UniqueID             album               track_uri  \\\n",
              "548   Teyana Taylor:Rose In Harlem          K.T.S.E.  38HcgcQC4suvti0Sa0e5yc   \n",
              "549       Medasin:Always Afternoon  Always Afternoon  6GMaQmdpwGolGyuW6ZJ9X9   \n",
              "550                   H.E.R.:Focus            H.E.R.  3tZs3nVjySLbL320lP4mvs   \n",
              "551               Solange:Stay Flo   When I Get Home  6GCIYIWUBSLontW6divqsw   \n",
              "834      The Mellowells:Long Johns            Shindy  48Ir1hGbzjeX3BVeR439cO   \n",
              "835      The Mellowells:Long Johns            Shindy  48Ir1hGbzjeX3BVeR439cO   \n",
              "836            Glow!:If It Were Me     If It Were Me  7lDPr3wYYKewaye3RHRXZx   \n",
              "837      The Mellowells:Long Johns            Shindy  48Ir1hGbzjeX3BVeR439cO   \n",
              "838            Glow!:If It Were Me     If It Were Me  7lDPr3wYYKewaye3RHRXZx   \n",
              "1146    Mac DeMarco:Ode to Viceroy               NaN                     NaN   \n",
              "\n",
              "      k_cluster  \n",
              "548           4  \n",
              "549           4  \n",
              "550           4  \n",
              "551           4  \n",
              "834           4  \n",
              "835           4  \n",
              "836           4  \n",
              "837           4  \n",
              "838           4  \n",
              "1146          4  "
            ]
          },
          "execution_count": 72,
          "metadata": {},
          "output_type": "execute_result"
        }
      ],
      "source": [
        "# checking the songs in the cluster\n",
        "df_cluster.loc[df_cluster['k_cluster'] == 4][:10]"
      ]
    },
    {
      "cell_type": "code",
      "execution_count": null,
      "id": "4bb17d39",
      "metadata": {
        "id": "4bb17d39",
        "outputId": "177a1079-3f7b-41de-f165-82f8a096fe1b"
      },
      "outputs": [
        {
          "data": {
            "text/html": [
              "<div>\n",
              "<style scoped>\n",
              "    .dataframe tbody tr th:only-of-type {\n",
              "        vertical-align: middle;\n",
              "    }\n",
              "\n",
              "    .dataframe tbody tr th {\n",
              "        vertical-align: top;\n",
              "    }\n",
              "\n",
              "    .dataframe thead tr th {\n",
              "        text-align: left;\n",
              "    }\n",
              "\n",
              "    .dataframe thead tr:last-of-type th {\n",
              "        text-align: right;\n",
              "    }\n",
              "</style>\n",
              "<table border=\"1\" class=\"dataframe\">\n",
              "  <thead>\n",
              "    <tr>\n",
              "      <th></th>\n",
              "      <th colspan=\"8\" halign=\"left\">msPlayed</th>\n",
              "      <th colspan=\"8\" halign=\"left\">TimeOfDay</th>\n",
              "    </tr>\n",
              "    <tr>\n",
              "      <th></th>\n",
              "      <th>count</th>\n",
              "      <th>mean</th>\n",
              "      <th>std</th>\n",
              "      <th>min</th>\n",
              "      <th>25%</th>\n",
              "      <th>50%</th>\n",
              "      <th>75%</th>\n",
              "      <th>max</th>\n",
              "      <th>count</th>\n",
              "      <th>mean</th>\n",
              "      <th>std</th>\n",
              "      <th>min</th>\n",
              "      <th>25%</th>\n",
              "      <th>50%</th>\n",
              "      <th>75%</th>\n",
              "      <th>max</th>\n",
              "    </tr>\n",
              "    <tr>\n",
              "      <th>k_cluster</th>\n",
              "      <th></th>\n",
              "      <th></th>\n",
              "      <th></th>\n",
              "      <th></th>\n",
              "      <th></th>\n",
              "      <th></th>\n",
              "      <th></th>\n",
              "      <th></th>\n",
              "      <th></th>\n",
              "      <th></th>\n",
              "      <th></th>\n",
              "      <th></th>\n",
              "      <th></th>\n",
              "      <th></th>\n",
              "      <th></th>\n",
              "      <th></th>\n",
              "    </tr>\n",
              "  </thead>\n",
              "  <tbody>\n",
              "    <tr>\n",
              "      <th>0</th>\n",
              "      <td>3231.0</td>\n",
              "      <td>179451.072733</td>\n",
              "      <td>109332.410696</td>\n",
              "      <td>0.0</td>\n",
              "      <td>115659.50</td>\n",
              "      <td>183746.0</td>\n",
              "      <td>235369.0</td>\n",
              "      <td>1386131.0</td>\n",
              "      <td>3231.0</td>\n",
              "      <td>1064.367379</td>\n",
              "      <td>31.852898</td>\n",
              "      <td>1006.0</td>\n",
              "      <td>1036.0</td>\n",
              "      <td>1066.0</td>\n",
              "      <td>1091.0</td>\n",
              "      <td>1117.0</td>\n",
              "    </tr>\n",
              "    <tr>\n",
              "      <th>1</th>\n",
              "      <td>3348.0</td>\n",
              "      <td>193807.656810</td>\n",
              "      <td>98631.062693</td>\n",
              "      <td>0.0</td>\n",
              "      <td>142231.25</td>\n",
              "      <td>192009.0</td>\n",
              "      <td>240123.0</td>\n",
              "      <td>2177420.0</td>\n",
              "      <td>3348.0</td>\n",
              "      <td>197.701314</td>\n",
              "      <td>36.798669</td>\n",
              "      <td>136.0</td>\n",
              "      <td>166.0</td>\n",
              "      <td>197.0</td>\n",
              "      <td>230.0</td>\n",
              "      <td>262.0</td>\n",
              "    </tr>\n",
              "    <tr>\n",
              "      <th>2</th>\n",
              "      <td>3034.0</td>\n",
              "      <td>195830.441991</td>\n",
              "      <td>165324.937814</td>\n",
              "      <td>0.0</td>\n",
              "      <td>136173.00</td>\n",
              "      <td>193087.0</td>\n",
              "      <td>245240.0</td>\n",
              "      <td>6982549.0</td>\n",
              "      <td>3034.0</td>\n",
              "      <td>1275.465722</td>\n",
              "      <td>30.526120</td>\n",
              "      <td>1224.0</td>\n",
              "      <td>1249.0</td>\n",
              "      <td>1276.0</td>\n",
              "      <td>1302.0</td>\n",
              "      <td>1329.0</td>\n",
              "    </tr>\n",
              "    <tr>\n",
              "      <th>3</th>\n",
              "      <td>3620.0</td>\n",
              "      <td>197139.441436</td>\n",
              "      <td>147380.219955</td>\n",
              "      <td>0.0</td>\n",
              "      <td>142039.50</td>\n",
              "      <td>194946.0</td>\n",
              "      <td>243727.0</td>\n",
              "      <td>6832354.0</td>\n",
              "      <td>3620.0</td>\n",
              "      <td>71.028453</td>\n",
              "      <td>39.146949</td>\n",
              "      <td>0.0</td>\n",
              "      <td>37.0</td>\n",
              "      <td>72.5</td>\n",
              "      <td>106.0</td>\n",
              "      <td>135.0</td>\n",
              "    </tr>\n",
              "    <tr>\n",
              "      <th>4</th>\n",
              "      <td>2021.0</td>\n",
              "      <td>203082.142504</td>\n",
              "      <td>584546.929116</td>\n",
              "      <td>0.0</td>\n",
              "      <td>114660.00</td>\n",
              "      <td>189906.0</td>\n",
              "      <td>247949.0</td>\n",
              "      <td>25254406.0</td>\n",
              "      <td>2021.0</td>\n",
              "      <td>947.216724</td>\n",
              "      <td>37.406935</td>\n",
              "      <td>864.0</td>\n",
              "      <td>918.0</td>\n",
              "      <td>951.0</td>\n",
              "      <td>979.0</td>\n",
              "      <td>1007.0</td>\n",
              "    </tr>\n",
              "    <tr>\n",
              "      <th>5</th>\n",
              "      <td>3202.0</td>\n",
              "      <td>192309.264210</td>\n",
              "      <td>101349.473582</td>\n",
              "      <td>0.0</td>\n",
              "      <td>141587.00</td>\n",
              "      <td>194269.0</td>\n",
              "      <td>243000.0</td>\n",
              "      <td>1647706.0</td>\n",
              "      <td>3202.0</td>\n",
              "      <td>1170.780762</td>\n",
              "      <td>31.533651</td>\n",
              "      <td>1118.0</td>\n",
              "      <td>1142.0</td>\n",
              "      <td>1171.0</td>\n",
              "      <td>1199.0</td>\n",
              "      <td>1223.0</td>\n",
              "    </tr>\n",
              "    <tr>\n",
              "      <th>6</th>\n",
              "      <td>1621.0</td>\n",
              "      <td>189217.423812</td>\n",
              "      <td>91837.606075</td>\n",
              "      <td>0.0</td>\n",
              "      <td>134681.00</td>\n",
              "      <td>187163.0</td>\n",
              "      <td>232733.0</td>\n",
              "      <td>1123275.0</td>\n",
              "      <td>1621.0</td>\n",
              "      <td>324.173967</td>\n",
              "      <td>56.839122</td>\n",
              "      <td>263.0</td>\n",
              "      <td>282.0</td>\n",
              "      <td>308.0</td>\n",
              "      <td>348.0</td>\n",
              "      <td>552.0</td>\n",
              "    </tr>\n",
              "    <tr>\n",
              "      <th>7</th>\n",
              "      <td>2634.0</td>\n",
              "      <td>191863.236902</td>\n",
              "      <td>103066.810146</td>\n",
              "      <td>0.0</td>\n",
              "      <td>138406.75</td>\n",
              "      <td>192106.0</td>\n",
              "      <td>243238.0</td>\n",
              "      <td>1138821.0</td>\n",
              "      <td>2634.0</td>\n",
              "      <td>1382.922551</td>\n",
              "      <td>31.688525</td>\n",
              "      <td>1330.0</td>\n",
              "      <td>1355.0</td>\n",
              "      <td>1381.0</td>\n",
              "      <td>1411.0</td>\n",
              "      <td>1439.0</td>\n",
              "    </tr>\n",
              "    <tr>\n",
              "      <th>8</th>\n",
              "      <td>886.0</td>\n",
              "      <td>192270.977427</td>\n",
              "      <td>859897.564731</td>\n",
              "      <td>0.0</td>\n",
              "      <td>67540.00</td>\n",
              "      <td>171534.0</td>\n",
              "      <td>227600.0</td>\n",
              "      <td>25221728.0</td>\n",
              "      <td>886.0</td>\n",
              "      <td>779.462754</td>\n",
              "      <td>65.887957</td>\n",
              "      <td>554.0</td>\n",
              "      <td>747.0</td>\n",
              "      <td>796.0</td>\n",
              "      <td>827.0</td>\n",
              "      <td>863.0</td>\n",
              "    </tr>\n",
              "  </tbody>\n",
              "</table>\n",
              "</div>"
            ],
            "text/plain": [
              "          msPlayed                                                          \\\n",
              "             count           mean            std  min        25%       50%   \n",
              "k_cluster                                                                    \n",
              "0           3231.0  179451.072733  109332.410696  0.0  115659.50  183746.0   \n",
              "1           3348.0  193807.656810   98631.062693  0.0  142231.25  192009.0   \n",
              "2           3034.0  195830.441991  165324.937814  0.0  136173.00  193087.0   \n",
              "3           3620.0  197139.441436  147380.219955  0.0  142039.50  194946.0   \n",
              "4           2021.0  203082.142504  584546.929116  0.0  114660.00  189906.0   \n",
              "5           3202.0  192309.264210  101349.473582  0.0  141587.00  194269.0   \n",
              "6           1621.0  189217.423812   91837.606075  0.0  134681.00  187163.0   \n",
              "7           2634.0  191863.236902  103066.810146  0.0  138406.75  192106.0   \n",
              "8            886.0  192270.977427  859897.564731  0.0   67540.00  171534.0   \n",
              "\n",
              "                                TimeOfDay                                  \\\n",
              "                75%         max     count         mean        std     min   \n",
              "k_cluster                                                                   \n",
              "0          235369.0   1386131.0    3231.0  1064.367379  31.852898  1006.0   \n",
              "1          240123.0   2177420.0    3348.0   197.701314  36.798669   136.0   \n",
              "2          245240.0   6982549.0    3034.0  1275.465722  30.526120  1224.0   \n",
              "3          243727.0   6832354.0    3620.0    71.028453  39.146949     0.0   \n",
              "4          247949.0  25254406.0    2021.0   947.216724  37.406935   864.0   \n",
              "5          243000.0   1647706.0    3202.0  1170.780762  31.533651  1118.0   \n",
              "6          232733.0   1123275.0    1621.0   324.173967  56.839122   263.0   \n",
              "7          243238.0   1138821.0    2634.0  1382.922551  31.688525  1330.0   \n",
              "8          227600.0  25221728.0     886.0   779.462754  65.887957   554.0   \n",
              "\n",
              "                                           \n",
              "              25%     50%     75%     max  \n",
              "k_cluster                                  \n",
              "0          1036.0  1066.0  1091.0  1117.0  \n",
              "1           166.0   197.0   230.0   262.0  \n",
              "2          1249.0  1276.0  1302.0  1329.0  \n",
              "3            37.0    72.5   106.0   135.0  \n",
              "4           918.0   951.0   979.0  1007.0  \n",
              "5          1142.0  1171.0  1199.0  1223.0  \n",
              "6           282.0   308.0   348.0   552.0  \n",
              "7          1355.0  1381.0  1411.0  1439.0  \n",
              "8           747.0   796.0   827.0   863.0  "
            ]
          },
          "execution_count": 73,
          "metadata": {},
          "output_type": "execute_result"
        }
      ],
      "source": [
        "# statistical distribution of the data in each column, for each cluster\n",
        "df_cluster.groupby(\"k_cluster\").describe() "
      ]
    },
    {
      "cell_type": "code",
      "execution_count": null,
      "id": "b1d9ad8e",
      "metadata": {
        "id": "b1d9ad8e"
      },
      "outputs": [],
      "source": [
        "df_cluster.to_csv('df_cluster.csv', index=0)"
      ]
    },
    {
      "cell_type": "code",
      "execution_count": null,
      "id": "8c82dc75",
      "metadata": {
        "id": "8c82dc75"
      },
      "outputs": [],
      "source": [
        "#Resources\n",
        "#https://colab.research.google.com/drive/1RjxURDlUTgR-ZhIMfu47jsK2mC3KB4R3?usp=sharing#scrollTo=wjvICz500TOE\n",
        "#https://colab.research.google.com/drive/1bjnEi_C9tb1YUIQ-IkqvM6IL-_DhjEzE#scrollTo=fobJde6TiWei\n",
        "#Juypter Notebook which is what my code and data was written"
      ]
    },
    {
      "cell_type": "code",
      "execution_count": null,
      "id": "c13b18c5",
      "metadata": {
        "id": "c13b18c5"
      },
      "outputs": [],
      "source": [
        "#Time Conversions to Understand them\n",
        "#1064.367379 / 60 = 17.7394563 -> 5:45 pm\n",
        "#197.701314 / 60 = 3.2950219 ->3:20 am\n",
        "#1275.465722 / 60 = 21.257762 -> 9:15 pm\n",
        "#71.028453 / 60 = 1.18380755 -> 1:10 am\n",
        "#947.216724 / 60 = 15.7869454 -> 3:45 pm\n",
        "#1170.780762 / 60 = 19.5130127 -> 7:30 pm\n",
        "#324.173967 / 60 = 5.40289945 -> 5:20 am\n",
        "#1382.922551 / 60 = 23.0487092 -> 11:00 pm\n",
        "#779.462754 / 60 = 12.9910459 -> 1:00 pm\n"
      ]
    }
  ],
  "metadata": {
    "kernelspec": {
      "display_name": "Python 3 (ipykernel)",
      "language": "python",
      "name": "python3"
    },
    "language_info": {
      "codemirror_mode": {
        "name": "ipython",
        "version": 3
      },
      "file_extension": ".py",
      "mimetype": "text/x-python",
      "name": "python",
      "nbconvert_exporter": "python",
      "pygments_lexer": "ipython3",
      "version": "3.9.7"
    },
    "colab": {
      "name": "A_Spotify_Analysis_KMeans_Project.ipynb",
      "provenance": []
    }
  },
  "nbformat": 4,
  "nbformat_minor": 5
}